{
  "cells": [
    {
      "cell_type": "markdown",
      "metadata": {
        "id": "XlWte452xYrH"
      },
      "source": [
        "*EX01. Descarrega el dataset adjunt preu lloguer per trimestre i barri.csv extret de la web OpenDataBCN i resumeix-lo estadísticament i gràficament.*\n",
        "\n"
      ]
    },
    {
      "cell_type": "code",
      "execution_count": 197,
      "metadata": {
        "id": "E-N6QXoq5IwY",
        "colab": {
          "base_uri": "https://localhost:8080/"
        },
        "outputId": "28e9a11e-cfda-4531-82c4-791ab7380fb9"
      },
      "outputs": [
        {
          "output_type": "stream",
          "name": "stdout",
          "text": [
            "<class 'pandas.core.frame.DataFrame'>\n",
            "RangeIndex: 584 entries, 0 to 583\n",
            "Data columns (total 8 columns):\n",
            " #   Column          Non-Null Count  Dtype \n",
            "---  ------          --------------  ----- \n",
            " 0   Any             584 non-null    int64 \n",
            " 1   Trimestre       584 non-null    int64 \n",
            " 2   Codi_Districte  584 non-null    int64 \n",
            " 3   Nom_Districte   584 non-null    object\n",
            " 4   Codi_Barri      584 non-null    int64 \n",
            " 5   Nom_Barri       584 non-null    object\n",
            " 6   Lloguer_mitja   584 non-null    object\n",
            " 7   Preu            584 non-null    object\n",
            "dtypes: int64(4), object(4)\n",
            "memory usage: 36.6+ KB\n",
            "\n",
            "False\n",
            "\n",
            "  Any    Trimestre    Codi_Districte   Nom_Districte     Codi_Barri                Nom_Barri                          Lloguer_mitja              Preu\n",
            "-----  -----------  ----------------  ---------------  ------------  -------------------------------------  ---------------------------------  ------\n",
            " 2021            1                 1   Ciutat Vella               1                el Raval                 Lloguer mitjà mensual (Euros/mes)   759.2\n",
            " 2021            1                 1   Ciutat Vella               2             el Barri Gòtic              Lloguer mitjà mensual (Euros/mes)   929.6\n",
            " 2021            1                 1   Ciutat Vella               3             la Barceloneta              Lloguer mitjà mensual (Euros/mes)   808.9\n",
            " 2021            1                 1   Ciutat Vella               4  Sant Pere, Santa Caterina i la Ribera  Lloguer mitjà mensual (Euros/mes)   879.4\n",
            " 2021            1                 2     Eixample                 5              el Fort Pienc              Lloguer mitjà mensual (Euros/mes)     918\n",
            "  Any    Trimestre    Codi_Districte   Nom_Districte     Codi_Barri                   Nom_Barri                                   Lloguer_mitja                   Preu\n",
            "-----  -----------  ----------------  ---------------  ------------  --------------------------------------------  -------------------------------------------  ------\n",
            " 2021            4                10    Sant Martí               69  Diagonal Mar i el Front Marítim del Poblenou  Lloguer mitjà per superfície (Euros/m2 mes)    15.2\n",
            " 2021            4                10    Sant Martí               70             el Besòs i el Maresme              Lloguer mitjà per superfície (Euros/m2 mes)    10.8\n",
            " 2021            4                10    Sant Martí               71            Provençals del Poblenou             Lloguer mitjà per superfície (Euros/m2 mes)    13.8\n",
            " 2021            4                10    Sant Martí               72            Sant Martí de Provençals            Lloguer mitjà per superfície (Euros/m2 mes)    11.7\n",
            " 2021            4                10    Sant Martí               73              la Verneda i la Pau               Lloguer mitjà per superfície (Euros/m2 mes)    11.3\n"
          ]
        }
      ],
      "source": [
        "import matplotlib as mpl\n",
        "import matplotlib.pyplot as plt\n",
        "import seaborn as sns\n",
        "import numpy as np\n",
        "import pandas as pd\n",
        "from tabulate import tabulate\n",
        "\n",
        "df = pd.read_csv('preu lloguer per trimestre i barri.csv')\n",
        "print(tabulate(df.info()))\n",
        "print(str(df.isnull().any().any())+'\\n')\n",
        "print(tabulate(df.head(5), headers = 'keys', stralign=\"center\", numalign=\"right\", showindex=False))\n",
        "print(tabulate(df.tail(5), headers = 'keys', stralign=\"center\", numalign=\"right\", showindex=False))"
      ]
    },
    {
      "cell_type": "markdown",
      "metadata": {
        "id": "DNaR-a5m5NiW"
      },
      "source": [
        "Exploración inicial\n",
        "\n",
        "Antes de empezar, además de importar todas las librerías y módulos que podemos necesitar, exploramos el dataset, para ver los campos y si existen valores nulos que limpiar. En este caso no los hay (False). Finalmente imprimimos una muestra de los 5 primeros y últimos registros para tener una idea más concreta. En este caso nos llaman la atención las columnas Lloguer_mitja y Preu, en tanto parecen diferenciar dos categorías: precio por metro cuadrado y mes o precio por vivienda y mes."
      ]
    },
    {
      "cell_type": "code",
      "execution_count": 198,
      "metadata": {
        "id": "omyULsdS8Ml8",
        "colab": {
          "base_uri": "https://localhost:8080/"
        },
        "outputId": "ebcb6565-5fee-425b-ddf9-935bd5473332"
      },
      "outputs": [
        {
          "output_type": "stream",
          "name": "stdout",
          "text": [
            "Nom_Barri        Trimestre  Lloguer_mitja                              \n",
            "Baró de Viver    1          Lloguer mitjà mensual (Euros/mes)              1\n",
            "                            Lloguer mitjà per superfície (Euros/m2 mes)    1\n",
            "                 2          Lloguer mitjà mensual (Euros/mes)              1\n",
            "                            Lloguer mitjà per superfície (Euros/m2 mes)    1\n",
            "                                                                          ..\n",
            "les Tres Torres  3          Lloguer mitjà mensual (Euros/mes)              1\n",
            "                            Lloguer mitjà per superfície (Euros/m2 mes)    1\n",
            "                 4          Lloguer mitjà mensual (Euros/mes)              1\n",
            "                            Lloguer mitjà per superfície (Euros/m2 mes)    1\n",
            "Length: 584, dtype: int64\n"
          ]
        }
      ],
      "source": [
        "pd.set_option('display.max_rows', 8)\n",
        "print(df[['Nom_Barri', 'Trimestre', 'Lloguer_mitja']].groupby(['Nom_Barri', 'Trimestre', 'Lloguer_mitja']).size())"
      ]
    },
    {
      "cell_type": "markdown",
      "metadata": {
        "id": "z1D0sA8UAmkp"
      },
      "source": [
        "Visualizamos la distribución temporal y geográfica de los datos, que están distribuidos con dos registros para cada trimestre para cada barrio. Uno mide el precio medio del alquiler de la vivienda, y el otro el precio medio del metro cuadrado.\n",
        "\n",
        "Cada barrio cuenta entonces con 8 registros, dos por trimestre."
      ]
    },
    {
      "cell_type": "code",
      "execution_count": 199,
      "metadata": {
        "id": "ukh01tW7EHQh",
        "colab": {
          "base_uri": "https://localhost:8080/"
        },
        "outputId": "3db83a19-47bb-4c6c-9ca7-b9d021357a8f"
      },
      "outputs": [
        {
          "output_type": "stream",
          "name": "stdout",
          "text": [
            "                               Preu\n",
            "Nom_Barri                          \n",
            "Ciutat Meridiana            525.700\n",
            "Baró de Viver               532.100\n",
            "la Trinitat Nova            592.750\n",
            "la Trinitat Vella           607.275\n",
            "...                             ...\n",
            "Torre Baró                      NaN\n",
            "Vallbona                        NaN\n",
            "la Clota                        NaN\n",
            "la Marina del Prat Vermell      NaN\n",
            "\n",
            "[73 rows x 1 columns]\n",
            "\n",
            "                             Preu\n",
            "Nom_Barri                        \n",
            "Baró de Viver               7.950\n",
            "Ciutat Meridiana            8.900\n",
            "Canyelles                   9.325\n",
            "la Guineueta                9.700\n",
            "...                           ...\n",
            "Torre Baró                    NaN\n",
            "Vallbona                      NaN\n",
            "la Clota                      NaN\n",
            "la Marina del Prat Vermell    NaN\n",
            "\n",
            "[73 rows x 1 columns]\n"
          ]
        }
      ],
      "source": [
        "df['Preu'] = pd.to_numeric(df['Preu'], errors='coerce')\n",
        "print(str(df[df['Lloguer_mitja'] == 'Lloguer mitjà mensual (Euros/mes)'][['Nom_Barri','Preu']]\n",
        "          .groupby('Nom_Barri').mean().sort_values(by='Preu'))+'\\n')\n",
        "print(df[df['Lloguer_mitja'] == 'Lloguer mitjà per superfície (Euros/m2 mes)'][['Nom_Barri','Preu']]\n",
        "      .groupby('Nom_Barri').mean().sort_values(by='Preu'))"
      ]
    },
    {
      "cell_type": "markdown",
      "metadata": {
        "id": "Ha6VnxiEUUD7"
      },
      "source": [
        "Ordenamos los barrios según el precio medio del alquiler, por vivienda y por metro cuadrado, de menor a mayor.\n",
        "Vemos que existen una serie de barrios para los que no obtenemos valores."
      ]
    },
    {
      "cell_type": "code",
      "execution_count": 200,
      "metadata": {
        "id": "hJRd0pwTWDoE",
        "colab": {
          "base_uri": "https://localhost:8080/"
        },
        "outputId": "aa6c778f-71de-425a-f77d-c26cfd4589c4"
      },
      "outputs": [
        {
          "output_type": "stream",
          "name": "stdout",
          "text": [
            "Nom_Barri\n",
            "Baró de Viver                 4\n",
            "Can Peguera                   8\n",
            "Torre Baró                    8\n",
            "Vallbona                      8\n",
            "la Clota                      8\n",
            "la Marina del Prat Vermell    8\n",
            "dtype: int64\n"
          ]
        }
      ],
      "source": [
        "barrios_sin_datos = df[df['Preu'].isnull()]\n",
        "\n",
        "print(barrios_sin_datos[['Nom_Barri', 'Preu']].groupby('Nom_Barri').size())"
      ]
    },
    {
      "cell_type": "markdown",
      "metadata": {
        "id": "2aaUiubpXyn5"
      },
      "source": [
        "Contamos el número de filas / registros, para las que no tenemos precio. Son 5 Barrios sin precio y uno con precio sólo para la mitad de registros."
      ]
    },
    {
      "cell_type": "code",
      "execution_count": 201,
      "metadata": {
        "id": "W83S6wGKYJSo",
        "colab": {
          "base_uri": "https://localhost:8080/"
        },
        "outputId": "493389f0-a248-41e0-c750-00998c7de058"
      },
      "outputs": [
        {
          "output_type": "stream",
          "name": "stdout",
          "text": [
            "Nom_Barri        Trimestre  Lloguer_mitja                                  Preu\n",
            "-------------  -----------  -------------------------------------------  ------\n",
            "Baró de Viver            1  Lloguer mitjà mensual (Euros/mes)               nan\n",
            "Baró de Viver            1  Lloguer mitjà per superfície (Euros/m2 mes)     nan\n",
            "Baró de Viver            2  Lloguer mitjà mensual (Euros/mes)             447.5\n",
            "Baró de Viver            2  Lloguer mitjà per superfície (Euros/m2 mes)     6.7\n",
            "Baró de Viver            3  Lloguer mitjà mensual (Euros/mes)               nan\n",
            "Baró de Viver            3  Lloguer mitjà per superfície (Euros/m2 mes)     nan\n",
            "Baró de Viver            4  Lloguer mitjà mensual (Euros/mes)             616.7\n",
            "Baró de Viver            4  Lloguer mitjà per superfície (Euros/m2 mes)     9.2\n",
            "\n",
            "Nom_Barri      Trimestre  Lloguer_mitja                                  Preu\n",
            "-----------  -----------  -------------------------------------------  ------\n",
            "Torre Baró             1  Lloguer mitjà mensual (Euros/mes)               nan\n",
            "Torre Baró             1  Lloguer mitjà per superfície (Euros/m2 mes)     nan\n",
            "Torre Baró             2  Lloguer mitjà mensual (Euros/mes)               nan\n",
            "Torre Baró             2  Lloguer mitjà per superfície (Euros/m2 mes)     nan\n",
            "Torre Baró             3  Lloguer mitjà mensual (Euros/mes)               nan\n",
            "Torre Baró             3  Lloguer mitjà per superfície (Euros/m2 mes)     nan\n",
            "Torre Baró             4  Lloguer mitjà mensual (Euros/mes)               nan\n",
            "Torre Baró             4  Lloguer mitjà per superfície (Euros/m2 mes)     nan\n"
          ]
        }
      ],
      "source": [
        "print(tabulate(df[df['Nom_Barri'] == 'Baró de Viver'][['Nom_Barri', 'Trimestre', 'Lloguer_mitja', 'Preu']],\n",
        "               headers = 'keys', stralign=\"left\", numalign=\"right\", showindex=False))\n",
        "print('\\n'+str(tabulate(df[df['Nom_Barri'] == 'Torre Baró'][['Nom_Barri', 'Trimestre', 'Lloguer_mitja', 'Preu']],\n",
        "                   headers = 'keys', stralign=\"left\", numalign=\"right\", showindex=False)))"
      ]
    },
    {
      "cell_type": "markdown",
      "metadata": {
        "id": "GcYLiIWvZNNX"
      },
      "source": [
        "Vemos los registros para `Baró de Viver` y `Torre Baró`, representativos de todos los barrios para los que no tenemos registros.\n",
        "\n",
        "En el primer caso lo que sucede es que no hay registros para el primer y tercer trimestre, ni para el precio medio del alquiler por vivienda, ni para el precio medio por metro cuadrado. En el segundo caso, como para los otros 4 barrios que estudiamos, no los hay, en cualquiera de los dos casos, para ningún trimestre."
      ]
    },
    {
      "cell_type": "code",
      "execution_count": 202,
      "metadata": {
        "id": "tBYiKF-1nt4V"
      },
      "outputs": [],
      "source": [
        "nombres_barrios_sin_datos = barrios_sin_datos['Nom_Barri'].unique()\n",
        "df = df[~df['Nom_Barri'].isin(nombres_barrios_sin_datos)]\n",
        "df = df[~((df['Nom_Barri'] == 'Baró de Viver') & (df['Trimestre'].isin([1, 3])))]"
      ]
    },
    {
      "cell_type": "markdown",
      "metadata": {
        "id": "2zgkN0Zanua_"
      },
      "source": [
        "Eliminamos todos los barrios para los que no tenemos datos."
      ]
    },
    {
      "cell_type": "code",
      "execution_count": 203,
      "metadata": {
        "id": "7arKPJ26nxzL",
        "colab": {
          "base_uri": "https://localhost:8080/"
        },
        "outputId": "d4b3097e-64f6-4167-f0c7-2eec80994780"
      },
      "outputs": [
        {
          "output_type": "stream",
          "name": "stdout",
          "text": [
            "Precio de alquiler en Barcelona en 2021, por vivienda:\n",
            "\n",
            "count     268.0\n",
            "mean      874.1\n",
            "std       219.9\n",
            "min       488.1\n",
            "25%       745.1\n",
            "50%       817.3\n",
            "75%       938.0\n",
            "max      1816.5\n",
            "Name: Preu, dtype: float64\n",
            "\n",
            "Precio de alquiler en Barcelona en 2021, por metro:\n",
            "\n",
            "count    268.0\n",
            "mean      12.8\n",
            "std        1.7\n",
            "min        8.1\n",
            "25%       11.7\n",
            "50%       12.8\n",
            "75%       13.6\n",
            "max       18.0\n",
            "Name: Preu, dtype: float64\n"
          ]
        }
      ],
      "source": [
        "por_vivienda = df[df['Lloguer_mitja'] == 'Lloguer mitjà mensual (Euros/mes)']\n",
        "por_metro = df[df['Lloguer_mitja'] == 'Lloguer mitjà per superfície (Euros/m2 mes)']\n",
        "print('Precio de alquiler en Barcelona en 2021, por vivienda:\\n')\n",
        "print(str(por_vivienda['Preu'].describe().round(1))+'\\n')\n",
        "print('Precio de alquiler en Barcelona en 2021, por metro:\\n')\n",
        "print(por_metro['Preu'].describe().round(1))"
      ]
    },
    {
      "cell_type": "markdown",
      "metadata": {
        "id": "yG3ihLNeqwtO"
      },
      "source": [
        "Hacemos una descripción de los datos diferenciando el precio por vivienda del precio por metro cuadrado, tratando a todos los barrios en conjunto. La media de todos los barrios está en 874 y 12.8 respectivamente. La mediana es 817.3 y 12.8 respectivamente. La desviación típica 220 y 1.7. El barrio con un precio medio más alto de alquiler para todo el año por trimestre lo tiene en 1816€ y por metro cuadrado en 18€/m2, el mínimo está en 488.1€ y 8.1€/m2."
      ]
    },
    {
      "cell_type": "code",
      "execution_count": 204,
      "metadata": {
        "id": "nwXOz_Utq_x3",
        "colab": {
          "base_uri": "https://localhost:8080/"
        },
        "outputId": "48cfc6e2-e127-4f80-dc85-39cdb2f1ef61"
      },
      "outputs": [
        {
          "output_type": "stream",
          "name": "stdout",
          "text": [
            "Nom_Barri                                       Index_Barri\n",
            "--------------------------------------------  -------------\n",
            "Ciutat Meridiana                                        0.6\n",
            "la Trinitat Nova                                       0.68\n",
            "la Trinitat Vella                                      0.69\n",
            "les Roquetes                                           0.71\n",
            "Verdun                                                 0.74\n",
            "el Carmel                                              0.77\n",
            "la Prosperitat                                         0.77\n",
            "la Guineueta                                           0.77\n",
            "el Bon Pastor                                          0.78\n",
            "el Turó de la Peira                                    0.78\n",
            "el Besòs i el Maresme                                  0.81\n",
            "Sant Genís dels Agudells                               0.81\n",
            "la Teixonera                                           0.82\n",
            "Porta                                                  0.82\n",
            "la Verneda i la Pau                                    0.85\n",
            "Montbau                                                0.85\n",
            "la Marina de Port                                      0.85\n",
            "Canyelles                                              0.85\n",
            "Horta                                                  0.86\n",
            "Can Baró                                               0.87\n",
            "Vilapicina i la Torre Llobeta                          0.87\n",
            "el Coll                                                0.87\n",
            "Sant Andreu                                            0.88\n",
            "la Sagrera                                             0.88\n",
            "el Raval                                               0.88\n",
            "el Congrés i els Indians                               0.89\n",
            "el Poble Sec                                           0.89\n",
            "Hostafrancs                                            0.91\n",
            "Sants - Badal                                          0.91\n",
            "Sant Martí de Provençals                               0.92\n",
            "el Guinardó                                            0.93\n",
            "la Font d'en Fargues                                   0.93\n",
            "el Clot                                                0.94\n",
            "el Camp de l'Arpa del Clot                             0.94\n",
            "Navas                                                  0.94\n",
            "la Font de la Guatlla                                  0.94\n",
            "el Baix Guinardó                                       0.94\n",
            "la Barceloneta                                         0.95\n",
            "Sants                                                  0.95\n",
            "la Bordeta                                             0.95\n",
            "la Vall d'Hebron                                       0.99\n",
            "la Salut                                               1.02\n",
            "el Camp d'en Grassot i Gràcia Nova                     1.02\n",
            "Sant Pere, Santa Caterina i la Ribera                  1.02\n",
            "la Vila de Gràcia                                      1.03\n",
            "la Sagrada Família                                     1.03\n",
            "Sant Antoni                                            1.06\n",
            "la Maternitat i Sant Ramon                             1.07\n",
            "el Barri Gòtic                                         1.08\n",
            "Vallcarca i els Penitents                              1.08\n",
            "el Fort Pienc                                          1.08\n",
            "el Poblenou                                            1.08\n",
            "Provençals del Poblenou                                1.09\n",
            "la Nova Esquerra de l'Eixample                          1.1\n",
            "el Parc i la Llacuna del Poblenou                      1.12\n",
            "el Putxet i el Farró                                   1.15\n",
            "les Corts                                              1.16\n",
            "l'Antiga Esquerra de l'Eixample                        1.23\n",
            "Diagonal Mar i el Front Marítim del Poblenou           1.23\n",
            "la Dreta de l'Eixample                                 1.36\n",
            "Vallvidrera, el Tibidabo i les Planes                  1.38\n",
            "Sant Gervasi - la Bonanova                             1.39\n",
            "Sarrià                                                 1.49\n",
            "la Vila Olímpica del Poblenou                           1.5\n",
            "Sant Gervasi - Galvany                                 1.55\n",
            "les Tres Torres                                        1.76\n",
            "Pedralbes                                              1.94\n"
          ]
        }
      ],
      "source": [
        "# Índice del precio de la vivienda según el barrio\n",
        "\n",
        "precio_medio_metro = por_metro['Preu'].mean()\n",
        "precio_medio_vivienda = por_vivienda['Preu'].mean()\n",
        "\n",
        "x = 1\n",
        "y = 1\n",
        "\n",
        "while(x < 74):\n",
        "  indice_metro = round((df[(df['Codi_Barri'] == x) & (df['Lloguer_mitja'] == 'Lloguer mitjà per superfície (Euros/m2 mes)')]['Preu'].mean())/precio_medio_metro, 2)\n",
        "  df.loc[(df['Codi_Barri'] == x) & (df['Lloguer_mitja'] == 'Lloguer mitjà per superfície (Euros/m2 mes)'), 'Index_Barri'] = indice_metro\n",
        "  x += 1\n",
        "\n",
        "while(y < 74):\n",
        "  indice_vivienda = round((df[(df['Codi_Barri'] == y) & (df['Lloguer_mitja'] == 'Lloguer mitjà mensual (Euros/mes)')]['Preu'].mean())/precio_medio_vivienda, 2)\n",
        "  df.loc[(df['Codi_Barri'] == y) & (df['Lloguer_mitja'] == 'Lloguer mitjà mensual (Euros/mes)'), 'Index_Barri'] = indice_vivienda\n",
        "  y += 1\n",
        "columnas_indice = df[['Nom_Barri', 'Index_Barri']].drop_duplicates(subset=['Nom_Barri']).sort_values(by='Index_Barri')\n",
        "columnas_indice = columnas_indice.reset_index(drop=True)\n",
        "print(tabulate(columnas_indice, headers = 'keys', stralign=\"left\", numalign=\"right\", showindex=False))"
      ]
    },
    {
      "cell_type": "markdown",
      "metadata": {
        "id": "_grVRwsEjakq"
      },
      "source": [
        "Creamos una columna nueva `Index_Barri` que mide la relación del precio de la vivienda entre ese barrio y el conjunto de todos los barrios. Los valores por debajo de 1 indican que el precio está por debajo de la media."
      ]
    },
    {
      "cell_type": "markdown",
      "metadata": {
        "id": "hv443HvZ5hEL"
      },
      "source": [
        "Crea almenys una visualització per:"
      ]
    },
    {
      "cell_type": "markdown",
      "metadata": {
        "id": "tP1smBt2xmjy"
      },
      "source": [
        "A. Una variable categòrica (Districte o Barri)"
      ]
    },
    {
      "cell_type": "code",
      "source": [
        "!pip install squarify"
      ],
      "metadata": {
        "colab": {
          "base_uri": "https://localhost:8080/"
        },
        "id": "zjH4Pa2XyKRe",
        "outputId": "68659c57-8ecb-417d-c791-e2d24ba26001"
      },
      "execution_count": 205,
      "outputs": [
        {
          "output_type": "stream",
          "name": "stdout",
          "text": [
            "Requirement already satisfied: squarify in /usr/local/lib/python3.10/dist-packages (0.4.3)\n"
          ]
        }
      ]
    },
    {
      "cell_type": "code",
      "source": [
        "df = pd.read_csv('preu lloguer per trimestre i barri.csv')"
      ],
      "metadata": {
        "id": "JNLtwvXs3fAL"
      },
      "execution_count": 206,
      "outputs": []
    },
    {
      "cell_type": "markdown",
      "source": [
        "Volvemos a cargar el dataset inicial para representar correctamente en el siguiente gráfico el tamaño de cada distrito. Anteriormente lo habíamos filtrado eliminando los barrios, trimestres en el caso de 'Baró de Viver', para los que no teníamos registro de precio, con el fin de hacer el análisis estadístico, en el cual varían ligeramente algunos cálculos entre incluirlos y no incluirlos."
      ],
      "metadata": {
        "id": "Tid9x_6D5KyM"
      }
    },
    {
      "cell_type": "code",
      "execution_count": 207,
      "metadata": {
        "colab": {
          "base_uri": "https://localhost:8080/",
          "height": 435
        },
        "id": "k2bm6VyTCKwA",
        "outputId": "c238cd8a-6013-49a4-d4e6-a08a0c09878f"
      },
      "outputs": [
        {
          "output_type": "display_data",
          "data": {
            "text/plain": [
              "<Figure size 640x480 with 1 Axes>"
            ],
            "image/png": "[encoded data removed]"
          },
          "metadata": {}
        }
      ],
      "source": [
        "import squarify\n",
        "\n",
        "y = df.groupby('Nom_Districte').size()\n",
        "squarify.plot(sizes=y, label=y.index, alpha=.8)\n",
        "plt.savefig('area_districtes')\n",
        "plt.show()"
      ]
    },
    {
      "cell_type": "markdown",
      "metadata": {
        "id": "15F-i8mo3BjW"
      },
      "source": [
        "Aquí podemos ver el tamaño relativo aproximado de los distritos."
      ]
    },
    {
      "cell_type": "markdown",
      "metadata": {
        "id": "vvQ1bUVCx2oU"
      },
      "source": [
        "B. Una variable numèrica (Preu)"
      ]
    },
    {
      "cell_type": "code",
      "execution_count": 208,
      "metadata": {
        "id": "GGIcs5ocx6Z5",
        "colab": {
          "base_uri": "https://localhost:8080/",
          "height": 430
        },
        "outputId": "2dcb01b5-5c75-4bfc-efe6-7b4cf36619cd"
      },
      "outputs": [
        {
          "output_type": "display_data",
          "data": {
            "text/plain": [
              "<Figure size 640x480 with 1 Axes>"
            ],
            "image/png": "[encoded data removed]"
          },
          "metadata": {}
        }
      ],
      "source": [
        "preus = df[df['Lloguer_mitja'] == 'Lloguer mitjà mensual (Euros/mes)']['Preu']\n",
        "df['Preu'] = pd.to_numeric(df['Preu'], errors='coerce')\n",
        "\n",
        "sns.kdeplot(preus_num.values, color = 'black')\n",
        "plt.savefig('distribucion_precios_vivienda')"
      ]
    },
    {
      "cell_type": "markdown",
      "source": [
        "Representamos la variable precios mensuales por vivienda normalizada, lo que nos permite tener una idea bastante aproximada de la ditribución de precios de alquiler por vivienda en Barcelona en 2021."
      ],
      "metadata": {
        "id": "XFgKv-kY6GzF"
      }
    },
    {
      "cell_type": "markdown",
      "metadata": {
        "id": "kzVm2D9qx636"
      },
      "source": [
        "C. Una variable numèrica i una categòrica (Districte i Preu)"
      ]
    },
    {
      "cell_type": "code",
      "execution_count": 209,
      "metadata": {
        "id": "kgRsGhSyyCZq",
        "colab": {
          "base_uri": "https://localhost:8080/",
          "height": 430
        },
        "outputId": "4fc9b625-e3a7-4fd4-e0be-3f074da36267"
      },
      "outputs": [
        {
          "output_type": "display_data",
          "data": {
            "text/plain": [
              "<Figure size 640x480 with 1 Axes>"
            ],
            "image/png": "[encoded data removed]"
          },
          "metadata": {}
        }
      ],
      "source": [
        "preus = df[df['Lloguer_mitja'] == 'Lloguer mitjà mensual (Euros/mes)'].groupby('Nom_Districte')['Preu'].mean()\n",
        "\n",
        "x = preus.index\n",
        "y = preus.values\n",
        "\n",
        "plt.barh(x,y)\n",
        "plt.savefig('preu_vivenda_districte')\n",
        "plt.show()"
      ]
    },
    {
      "cell_type": "markdown",
      "source": [
        "Representamos los precios medios de alquiler por vivienda por distrito, para todo el año."
      ],
      "metadata": {
        "id": "I0fyr6H42J0u"
      }
    },
    {
      "cell_type": "code",
      "source": [
        "preus = df[df['Lloguer_mitja'] == 'Lloguer mitjà per superfície (Euros/m2 mes)'].groupby('Nom_Districte')['Preu'].mean()\n",
        "\n",
        "x = preus.index\n",
        "y = preus.values\n",
        "\n",
        "plt.barh(x,y)\n",
        "plt.savefig('preu_metre_districte')\n",
        "plt.show()"
      ],
      "metadata": {
        "id": "UKSTEGIc16Tu",
        "colab": {
          "base_uri": "https://localhost:8080/",
          "height": 430
        },
        "outputId": "9cace722-fc6c-4caa-f842-a2ffc869df41"
      },
      "execution_count": 210,
      "outputs": [
        {
          "output_type": "display_data",
          "data": {
            "text/plain": [
              "<Figure size 640x480 with 1 Axes>"
            ],
            "image/png": "[encoded data removed]"
          },
          "metadata": {}
        }
      ]
    },
    {
      "cell_type": "markdown",
      "source": [
        "Y los precios medios de alquiler por metro cuadrado por distrito."
      ],
      "metadata": {
        "id": "XsYdV5AY2Udk"
      }
    },
    {
      "cell_type": "markdown",
      "metadata": {
        "id": "R-ibXSEayDIR"
      },
      "source": [
        "D. Dues variables numèriques (Any o Trimestre i Preu)"
      ]
    },
    {
      "cell_type": "code",
      "execution_count": 211,
      "metadata": {
        "id": "ORj1i0AXyGu_",
        "colab": {
          "base_uri": "https://localhost:8080/",
          "height": 448
        },
        "outputId": "13278f60-797c-40ae-8b63-d736fe575389"
      },
      "outputs": [
        {
          "output_type": "execute_result",
          "data": {
            "text/plain": [
              "<Axes: >"
            ]
          },
          "metadata": {},
          "execution_count": 211
        },
        {
          "output_type": "display_data",
          "data": {
            "text/plain": [
              "<Figure size 640x480 with 1 Axes>"
            ],
            "image/png": "[encoded data removed]"
          },
          "metadata": {}
        }
      ],
      "source": [
        "preus_trimestre = df[df['Lloguer_mitja'] == 'Lloguer mitjà mensual (Euros/mes)'].groupby('Trimestre')['Preu'].mean()\n",
        "\n",
        "plt.savefig('preu_trimestre')\n",
        "sns.boxplot(preus_trimestre.values)"
      ]
    },
    {
      "cell_type": "markdown",
      "source": [
        "En este caso vemos la distribución de precios medios de la vivienda por trimestre para 2021 en Barcelona agrupados por trimestres, mostrándose los valores mínimo, máximo y los cuartiles 1, 2 (mediana) y 3."
      ],
      "metadata": {
        "id": "dJgMuNAaXjPn"
      }
    },
    {
      "cell_type": "markdown",
      "metadata": {
        "id": "SsXPG2vdyHQU"
      },
      "source": [
        "E. Tres variables (Barri o Districte, Trimestre i Preu)"
      ]
    },
    {
      "cell_type": "code",
      "execution_count": 212,
      "metadata": {
        "id": "0JdvCOHFyLNK",
        "colab": {
          "base_uri": "https://localhost:8080/",
          "height": 430
        },
        "outputId": "ae26739d-6d5a-45b9-a2ba-202f41a6aa61"
      },
      "outputs": [
        {
          "output_type": "display_data",
          "data": {
            "text/plain": [
              "<Figure size 640x480 with 1 Axes>"
            ],
            "image/png": "[encoded data removed]"
          },
          "metadata": {}
        }
      ],
      "source": [
        "d = {}\n",
        "bar = {}\n",
        "bars = []\n",
        "districtes = []\n",
        "\n",
        "for i in range(1, 11):\n",
        "  d[str(i)] = df[(df['Codi_Districte'] == i) & (df['Lloguer_mitja'] ==\n",
        "                                 'Lloguer mitjà mensual (Euros/mes)')].groupby(['Trimestre'])['Preu'].mean().round(1).values\n",
        "\n",
        "for n in range(1, 11):\n",
        "  bar[str(n)] = plt.bar(np.arange(1, 5) + 0.1*(0+n), d[str(n)], 0.1)\n",
        "  bars.append(bar[str(n)])\n",
        "  districtes.append('D'+str(n))\n",
        "\n",
        "plt.xticks(np.arange(1, 5) + 0.5, ['1', '2', '3', '4'])\n",
        "plt.legend(bars, districtes)\n",
        "plt.savefig('preu_trimestre_districte')\n",
        "plt.show()"
      ]
    },
    {
      "cell_type": "markdown",
      "source": [
        "Representamos en el eje horizontal los 4 trimestres, para los 10 distritos, cada uno con una barra, cuyo código de distrito se muestra en la leyenda, mientras en el eje vertical mostramos el precio medio por vivienda."
      ],
      "metadata": {
        "id": "1iBnTRJhG7uS"
      }
    },
    {
      "cell_type": "markdown",
      "metadata": {
        "id": "FoeTW9KIyOe6"
      },
      "source": [
        "EX02. Exporta els gràfics com imatges o com HTML."
      ]
    },
    {
      "cell_type": "markdown",
      "source": [
        "Hecho en cada uno de los gráficos."
      ],
      "metadata": {
        "id": "ZHnKtLiVMIBR"
      }
    },
    {
      "cell_type": "markdown",
      "metadata": {
        "id": "bFH6IRM4yVuz"
      },
      "source": [
        "EX03. Proposa alguna visualització que creguis que pot resultar interessant.\n"
      ]
    },
    {
      "cell_type": "code",
      "source": [
        "# Índice del precio de la vivienda según el barrio\n",
        "\n",
        "precio_medio_metro = por_metro['Preu'].mean()\n",
        "precio_medio_vivienda = por_vivienda['Preu'].mean()\n",
        "\n",
        "x = 1\n",
        "y = 1\n",
        "\n",
        "while(x < 74):\n",
        "  indice_metro = round((df[(df['Codi_Barri'] == x) & (df['Lloguer_mitja'] == 'Lloguer mitjà per superfície (Euros/m2 mes)')]['Preu'].mean())/precio_medio_metro, 2)\n",
        "  df.loc[(df['Codi_Barri'] == x) & (df['Lloguer_mitja'] == 'Lloguer mitjà per superfície (Euros/m2 mes)'), 'Index_Barri'] = indice_metro\n",
        "  x += 1\n",
        "\n",
        "while(y < 74):\n",
        "  indice_vivienda = round((df[(df['Codi_Barri'] == y) & (df['Lloguer_mitja'] == 'Lloguer mitjà mensual (Euros/mes)')]['Preu'].mean())/precio_medio_vivienda, 2)\n",
        "  df.loc[(df['Codi_Barri'] == y) & (df['Lloguer_mitja'] == 'Lloguer mitjà mensual (Euros/mes)'), 'Index_Barri'] = indice_vivienda\n",
        "  y += 1"
      ],
      "metadata": {
        "id": "CL935bFhW6YO"
      },
      "execution_count": 214,
      "outputs": []
    },
    {
      "cell_type": "code",
      "execution_count": 215,
      "metadata": {
        "id": "j6nioV80yZH-",
        "colab": {
          "base_uri": "https://localhost:8080/",
          "height": 406
        },
        "outputId": "7cf31219-c97e-4bbf-f4af-a994c579f173"
      },
      "outputs": [
        {
          "output_type": "display_data",
          "data": {
            "text/plain": [
              "<Figure size 640x480 with 1 Axes>"
            ],
            "image/png": "[encoded data removed]"
          },
          "metadata": {}
        }
      ],
      "source": [
        "plt.stem(df.groupby('Nom_Districte')['Index_Barri'].mean(), markerfmt=' ', bottom=1)\n",
        "plt.xticks([])\n",
        "plt.show()"
      ]
    },
    {
      "cell_type": "markdown",
      "source": [
        "Otra manera de visualizar la distribucion de precios es recuperando la columna índice de precios que hemos creado previamente. En este nuestro interés está en ver la distribución del conjunto entorno a un índice medio de 1."
      ],
      "metadata": {
        "id": "po1rQMf1VWEh"
      }
    }
  ],
  "metadata": {
    "colab": {
      "provenance": []
    },
    "kernelspec": {
      "display_name": "Python 3",
      "name": "python3"
    },
    "language_info": {
      "name": "python"
    }
  },
  "nbformat": 4,
  "nbformat_minor": 0
}