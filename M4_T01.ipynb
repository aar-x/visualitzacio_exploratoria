{
  "cells": [
    {
      "cell_type": "markdown",
      "metadata": {
        "id": "XlWte452xYrH"
      },
      "source": [
        "# *EX01. Descarrega el dataset adjunt preu lloguer per trimestre i barri.csv extret de la web OpenDataBCN*\n",
        "\n"
      ]
    },
    {
      "cell_type": "code",
      "execution_count": 51,
      "metadata": {
        "id": "E-N6QXoq5IwY"
      },
      "outputs": [],
      "source": [
        "import pandas as pd"
      ]
    },
    {
      "cell_type": "code",
      "source": [
        "df = pd.read_csv('preu lloguer per trimestre i barri.csv')"
      ],
      "metadata": {
        "id": "fF8ixQRD41GX"
      },
      "execution_count": 52,
      "outputs": []
    },
    {
      "cell_type": "markdown",
      "source": [
        "Cargamos los datos del archivo csv con el que vamos a trabajar en un dataframe."
      ],
      "metadata": {
        "id": "uVzxcCdD5Dat"
      }
    },
    {
      "cell_type": "markdown",
      "source": [
        "# 1A. Resumeix-lo estadísticament"
      ],
      "metadata": {
        "id": "KXH5s8v6NNQz"
      }
    },
    {
      "cell_type": "code",
      "source": [
        "df.info()"
      ],
      "metadata": {
        "colab": {
          "base_uri": "https://localhost:8080/"
        },
        "id": "dwR-UgJo1rCu",
        "outputId": "fb4687b2-3bc1-4aea-ced7-b24556197a92"
      },
      "execution_count": 53,
      "outputs": [
        {
          "output_type": "stream",
          "name": "stdout",
          "text": [
            "<class 'pandas.core.frame.DataFrame'>\n",
            "RangeIndex: 584 entries, 0 to 583\n",
            "Data columns (total 8 columns):\n",
            " #   Column          Non-Null Count  Dtype \n",
            "---  ------          --------------  ----- \n",
            " 0   Any             584 non-null    int64 \n",
            " 1   Trimestre       584 non-null    int64 \n",
            " 2   Codi_Districte  584 non-null    int64 \n",
            " 3   Nom_Districte   584 non-null    object\n",
            " 4   Codi_Barri      584 non-null    int64 \n",
            " 5   Nom_Barri       584 non-null    object\n",
            " 6   Lloguer_mitja   584 non-null    object\n",
            " 7   Preu            584 non-null    object\n",
            "dtypes: int64(4), object(4)\n",
            "memory usage: 36.6+ KB\n"
          ]
        }
      ]
    },
    {
      "cell_type": "markdown",
      "source": [
        "Exploramos los datos, comprobando como hay cuatro atributos de tipo object y no hay datos nulos (584 = 584)."
      ],
      "metadata": {
        "id": "82aFbtQn534R"
      }
    },
    {
      "cell_type": "code",
      "source": [
        "df.shape"
      ],
      "metadata": {
        "colab": {
          "base_uri": "https://localhost:8080/"
        },
        "id": "bn5GmijjCDL6",
        "outputId": "4650517d-34ab-4972-a969-5253831c9920"
      },
      "execution_count": 54,
      "outputs": [
        {
          "output_type": "execute_result",
          "data": {
            "text/plain": [
              "(584, 8)"
            ]
          },
          "metadata": {},
          "execution_count": 54
        }
      ]
    },
    {
      "cell_type": "markdown",
      "source": [
        "Para un total de 584 filas y 8 columnas."
      ],
      "metadata": {
        "id": "ZlepsmuICTzP"
      }
    },
    {
      "cell_type": "code",
      "source": [
        "df.head(1)"
      ],
      "metadata": {
        "colab": {
          "base_uri": "https://localhost:8080/",
          "height": 135
        },
        "id": "y3JnN6gSLHAH",
        "outputId": "09a25cb1-bdea-40d5-f946-71cb50b85714"
      },
      "execution_count": 55,
      "outputs": [
        {
          "output_type": "execute_result",
          "data": {
            "text/plain": [
              "    Any  Trimestre  Codi_Districte Nom_Districte  Codi_Barri Nom_Barri  \\\n",
              "0  2021          1               1  Ciutat Vella           1  el Raval   \n",
              "\n",
              "                       Lloguer_mitja   Preu  \n",
              "0  Lloguer mitjà mensual (Euros/mes)  759.2  "
            ],
            "text/html": [
              "\n",
              "  <div id=\"df-07f27aaa-c55c-430f-87d3-4cdcf088e4b8\" class=\"colab-df-container\">\n",
              "    <div>\n",
              "<style scoped>\n",
              "    .dataframe tbody tr th:only-of-type {\n",
              "        vertical-align: middle;\n",
              "    }\n",
              "\n",
              "    .dataframe tbody tr th {\n",
              "        vertical-align: top;\n",
              "    }\n",
              "\n",
              "    .dataframe thead th {\n",
              "        text-align: right;\n",
              "    }\n",
              "</style>\n",
              "<table border=\"1\" class=\"dataframe\">\n",
              "  <thead>\n",
              "    <tr style=\"text-align: right;\">\n",
              "      <th></th>\n",
              "      <th>Any</th>\n",
              "      <th>Trimestre</th>\n",
              "      <th>Codi_Districte</th>\n",
              "      <th>Nom_Districte</th>\n",
              "      <th>Codi_Barri</th>\n",
              "      <th>Nom_Barri</th>\n",
              "      <th>Lloguer_mitja</th>\n",
              "      <th>Preu</th>\n",
              "    </tr>\n",
              "  </thead>\n",
              "  <tbody>\n",
              "    <tr>\n",
              "      <th>0</th>\n",
              "      <td>2021</td>\n",
              "      <td>1</td>\n",
              "      <td>1</td>\n",
              "      <td>Ciutat Vella</td>\n",
              "      <td>1</td>\n",
              "      <td>el Raval</td>\n",
              "      <td>Lloguer mitjà mensual (Euros/mes)</td>\n",
              "      <td>759.2</td>\n",
              "    </tr>\n",
              "  </tbody>\n",
              "</table>\n",
              "</div>\n",
              "    <div class=\"colab-df-buttons\">\n",
              "\n",
              "  <div class=\"colab-df-container\">\n",
              "    <button class=\"colab-df-convert\" onclick=\"convertToInteractive('df-07f27aaa-c55c-430f-87d3-4cdcf088e4b8')\"\n",
              "            title=\"Convert this dataframe to an interactive table.\"\n",
              "            style=\"display:none;\">\n",
              "\n",
              "  <svg xmlns=\"http://www.w3.org/2000/svg\" height=\"24px\" viewBox=\"0 -960 960 960\">\n",
              "    <path d=\"M120-120v-720h720v720H120Zm60-500h600v-160H180v160Zm220 220h160v-160H400v160Zm0 220h160v-160H400v160ZM180-400h160v-160H180v160Zm440 0h160v-160H620v160ZM180-180h160v-160H180v160Zm440 0h160v-160H620v160Z\"/>\n",
              "  </svg>\n",
              "    </button>\n",
              "\n",
              "  <style>\n",
              "    .colab-df-container {\n",
              "      display:flex;\n",
              "      gap: 12px;\n",
              "    }\n",
              "\n",
              "    .colab-df-convert {\n",
              "      background-color: #E8F0FE;\n",
              "      border: none;\n",
              "      border-radius: 50%;\n",
              "      cursor: pointer;\n",
              "      display: none;\n",
              "      fill: #1967D2;\n",
              "      height: 32px;\n",
              "      padding: 0 0 0 0;\n",
              "      width: 32px;\n",
              "    }\n",
              "\n",
              "    .colab-df-convert:hover {\n",
              "      background-color: #E2EBFA;\n",
              "      box-shadow: 0px 1px 2px rgba(60, 64, 67, 0.3), 0px 1px 3px 1px rgba(60, 64, 67, 0.15);\n",
              "      fill: #174EA6;\n",
              "    }\n",
              "\n",
              "    .colab-df-buttons div {\n",
              "      margin-bottom: 4px;\n",
              "    }\n",
              "\n",
              "    [theme=dark] .colab-df-convert {\n",
              "      background-color: #3B4455;\n",
              "      fill: #D2E3FC;\n",
              "    }\n",
              "\n",
              "    [theme=dark] .colab-df-convert:hover {\n",
              "      background-color: #434B5C;\n",
              "      box-shadow: 0px 1px 3px 1px rgba(0, 0, 0, 0.15);\n",
              "      filter: drop-shadow(0px 1px 2px rgba(0, 0, 0, 0.3));\n",
              "      fill: #FFFFFF;\n",
              "    }\n",
              "  </style>\n",
              "\n",
              "    <script>\n",
              "      const buttonEl =\n",
              "        document.querySelector('#df-07f27aaa-c55c-430f-87d3-4cdcf088e4b8 button.colab-df-convert');\n",
              "      buttonEl.style.display =\n",
              "        google.colab.kernel.accessAllowed ? 'block' : 'none';\n",
              "\n",
              "      async function convertToInteractive(key) {\n",
              "        const element = document.querySelector('#df-07f27aaa-c55c-430f-87d3-4cdcf088e4b8');\n",
              "        const dataTable =\n",
              "          await google.colab.kernel.invokeFunction('convertToInteractive',\n",
              "                                                    [key], {});\n",
              "        if (!dataTable) return;\n",
              "\n",
              "        const docLinkHtml = 'Like what you see? Visit the ' +\n",
              "          '<a target=\"_blank\" href=https://colab.research.google.com/notebooks/data_table.ipynb>data table notebook</a>'\n",
              "          + ' to learn more about interactive tables.';\n",
              "        element.innerHTML = '';\n",
              "        dataTable['output_type'] = 'display_data';\n",
              "        await google.colab.output.renderOutput(dataTable, element);\n",
              "        const docLink = document.createElement('div');\n",
              "        docLink.innerHTML = docLinkHtml;\n",
              "        element.appendChild(docLink);\n",
              "      }\n",
              "    </script>\n",
              "  </div>\n",
              "\n",
              "    </div>\n",
              "  </div>\n"
            ]
          },
          "metadata": {},
          "execution_count": 55
        }
      ]
    },
    {
      "cell_type": "markdown",
      "source": [
        "El dataset refleja los precios de la vivienda de alquiler en Barcelona, en el año 2021 (any), clasificados por distritos (Codi_Districte i Nom_Districte), barrios (Codi_Barri i Nom_Barri), trimestres (Trimestre) y distinguiendo entre precios por metro cuadrado o precio por vivienda (Lloguer_mitja), lo que queda reflejado en el precio (Preu)."
      ],
      "metadata": {
        "id": "Pb9_-XSLLUwd"
      }
    },
    {
      "cell_type": "markdown",
      "source": [
        "Nom_Districte, Nom-Barri y Lloguer_mitja contienen datos de tipo string, tipificados como object."
      ],
      "metadata": {
        "id": "YZFk3c7i7xzB"
      }
    },
    {
      "cell_type": "code",
      "source": [
        "df.Preu.unique()[0]"
      ],
      "metadata": {
        "colab": {
          "base_uri": "https://localhost:8080/",
          "height": 41
        },
        "id": "_gYNok2D8ps5",
        "outputId": "a256a0dc-4e89-4f6d-f284-5fa7e704126d"
      },
      "execution_count": 56,
      "outputs": [
        {
          "output_type": "execute_result",
          "data": {
            "text/plain": [
              "'759.2'"
            ],
            "application/vnd.google.colaboratory.intrinsic+json": {
              "type": "string"
            }
          },
          "metadata": {},
          "execution_count": 56
        }
      ]
    },
    {
      "cell_type": "markdown",
      "source": [
        "Preu contiene también strings tipificados como object."
      ],
      "metadata": {
        "id": "oq6BpX0I-BGK"
      }
    },
    {
      "cell_type": "code",
      "source": [
        "df['Preu'] = pd.to_numeric(df['Preu'], errors='coerce')"
      ],
      "metadata": {
        "id": "Ob-uTCZkBgNO"
      },
      "execution_count": 57,
      "outputs": []
    },
    {
      "cell_type": "markdown",
      "source": [
        "Convertimos los valores a flotantes. El parámetro 'coerce' hará que cualquier valor no convertible a float sea NaN."
      ],
      "metadata": {
        "id": "2ceHR6PyIyBz"
      }
    },
    {
      "cell_type": "markdown",
      "source": [
        "Vamos ahora con la descripción de los datos, enfocándonos en la variable precio ..."
      ],
      "metadata": {
        "id": "3ijyPxc-PEO3"
      }
    },
    {
      "cell_type": "code",
      "source": [
        "df[df.Lloguer_mitja == 'Lloguer mitjà mensual (Euros/mes)']['Preu'] \\\n",
        ".groupby(df.Trimestre).describe().round(2)"
      ],
      "metadata": {
        "colab": {
          "base_uri": "https://localhost:8080/",
          "height": 206
        },
        "id": "YQKvPvCpN_K2",
        "outputId": "01516b32-d189-4f5e-964f-6edd64ca5126"
      },
      "execution_count": 58,
      "outputs": [
        {
          "output_type": "execute_result",
          "data": {
            "text/plain": [
              "           count    mean     std    min     25%    50%     75%     max\n",
              "Trimestre                                                             \n",
              "1           67.0  869.30  221.53  520.2  741.25  808.9  928.00  1598.2\n",
              "2           68.0  851.91  211.95  447.5  733.65  812.8  911.42  1680.3\n",
              "3           67.0  880.79  225.84  547.7  752.40  823.6  968.50  1816.5\n",
              "4           68.0  884.47  228.63  546.8  750.05  826.7  958.25  1679.3"
            ],
            "text/html": [
              "\n",
              "  <div id=\"df-cb7aec60-63c3-47e8-ae1a-973b0d413937\" class=\"colab-df-container\">\n",
              "    <div>\n",
              "<style scoped>\n",
              "    .dataframe tbody tr th:only-of-type {\n",
              "        vertical-align: middle;\n",
              "    }\n",
              "\n",
              "    .dataframe tbody tr th {\n",
              "        vertical-align: top;\n",
              "    }\n",
              "\n",
              "    .dataframe thead th {\n",
              "        text-align: right;\n",
              "    }\n",
              "</style>\n",
              "<table border=\"1\" class=\"dataframe\">\n",
              "  <thead>\n",
              "    <tr style=\"text-align: right;\">\n",
              "      <th></th>\n",
              "      <th>count</th>\n",
              "      <th>mean</th>\n",
              "      <th>std</th>\n",
              "      <th>min</th>\n",
              "      <th>25%</th>\n",
              "      <th>50%</th>\n",
              "      <th>75%</th>\n",
              "      <th>max</th>\n",
              "    </tr>\n",
              "    <tr>\n",
              "      <th>Trimestre</th>\n",
              "      <th></th>\n",
              "      <th></th>\n",
              "      <th></th>\n",
              "      <th></th>\n",
              "      <th></th>\n",
              "      <th></th>\n",
              "      <th></th>\n",
              "      <th></th>\n",
              "    </tr>\n",
              "  </thead>\n",
              "  <tbody>\n",
              "    <tr>\n",
              "      <th>1</th>\n",
              "      <td>67.0</td>\n",
              "      <td>869.30</td>\n",
              "      <td>221.53</td>\n",
              "      <td>520.2</td>\n",
              "      <td>741.25</td>\n",
              "      <td>808.9</td>\n",
              "      <td>928.00</td>\n",
              "      <td>1598.2</td>\n",
              "    </tr>\n",
              "    <tr>\n",
              "      <th>2</th>\n",
              "      <td>68.0</td>\n",
              "      <td>851.91</td>\n",
              "      <td>211.95</td>\n",
              "      <td>447.5</td>\n",
              "      <td>733.65</td>\n",
              "      <td>812.8</td>\n",
              "      <td>911.42</td>\n",
              "      <td>1680.3</td>\n",
              "    </tr>\n",
              "    <tr>\n",
              "      <th>3</th>\n",
              "      <td>67.0</td>\n",
              "      <td>880.79</td>\n",
              "      <td>225.84</td>\n",
              "      <td>547.7</td>\n",
              "      <td>752.40</td>\n",
              "      <td>823.6</td>\n",
              "      <td>968.50</td>\n",
              "      <td>1816.5</td>\n",
              "    </tr>\n",
              "    <tr>\n",
              "      <th>4</th>\n",
              "      <td>68.0</td>\n",
              "      <td>884.47</td>\n",
              "      <td>228.63</td>\n",
              "      <td>546.8</td>\n",
              "      <td>750.05</td>\n",
              "      <td>826.7</td>\n",
              "      <td>958.25</td>\n",
              "      <td>1679.3</td>\n",
              "    </tr>\n",
              "  </tbody>\n",
              "</table>\n",
              "</div>\n",
              "    <div class=\"colab-df-buttons\">\n",
              "\n",
              "  <div class=\"colab-df-container\">\n",
              "    <button class=\"colab-df-convert\" onclick=\"convertToInteractive('df-cb7aec60-63c3-47e8-ae1a-973b0d413937')\"\n",
              "            title=\"Convert this dataframe to an interactive table.\"\n",
              "            style=\"display:none;\">\n",
              "\n",
              "  <svg xmlns=\"http://www.w3.org/2000/svg\" height=\"24px\" viewBox=\"0 -960 960 960\">\n",
              "    <path d=\"M120-120v-720h720v720H120Zm60-500h600v-160H180v160Zm220 220h160v-160H400v160Zm0 220h160v-160H400v160ZM180-400h160v-160H180v160Zm440 0h160v-160H620v160ZM180-180h160v-160H180v160Zm440 0h160v-160H620v160Z\"/>\n",
              "  </svg>\n",
              "    </button>\n",
              "\n",
              "  <style>\n",
              "    .colab-df-container {\n",
              "      display:flex;\n",
              "      gap: 12px;\n",
              "    }\n",
              "\n",
              "    .colab-df-convert {\n",
              "      background-color: #E8F0FE;\n",
              "      border: none;\n",
              "      border-radius: 50%;\n",
              "      cursor: pointer;\n",
              "      display: none;\n",
              "      fill: #1967D2;\n",
              "      height: 32px;\n",
              "      padding: 0 0 0 0;\n",
              "      width: 32px;\n",
              "    }\n",
              "\n",
              "    .colab-df-convert:hover {\n",
              "      background-color: #E2EBFA;\n",
              "      box-shadow: 0px 1px 2px rgba(60, 64, 67, 0.3), 0px 1px 3px 1px rgba(60, 64, 67, 0.15);\n",
              "      fill: #174EA6;\n",
              "    }\n",
              "\n",
              "    .colab-df-buttons div {\n",
              "      margin-bottom: 4px;\n",
              "    }\n",
              "\n",
              "    [theme=dark] .colab-df-convert {\n",
              "      background-color: #3B4455;\n",
              "      fill: #D2E3FC;\n",
              "    }\n",
              "\n",
              "    [theme=dark] .colab-df-convert:hover {\n",
              "      background-color: #434B5C;\n",
              "      box-shadow: 0px 1px 3px 1px rgba(0, 0, 0, 0.15);\n",
              "      filter: drop-shadow(0px 1px 2px rgba(0, 0, 0, 0.3));\n",
              "      fill: #FFFFFF;\n",
              "    }\n",
              "  </style>\n",
              "\n",
              "    <script>\n",
              "      const buttonEl =\n",
              "        document.querySelector('#df-cb7aec60-63c3-47e8-ae1a-973b0d413937 button.colab-df-convert');\n",
              "      buttonEl.style.display =\n",
              "        google.colab.kernel.accessAllowed ? 'block' : 'none';\n",
              "\n",
              "      async function convertToInteractive(key) {\n",
              "        const element = document.querySelector('#df-cb7aec60-63c3-47e8-ae1a-973b0d413937');\n",
              "        const dataTable =\n",
              "          await google.colab.kernel.invokeFunction('convertToInteractive',\n",
              "                                                    [key], {});\n",
              "        if (!dataTable) return;\n",
              "\n",
              "        const docLinkHtml = 'Like what you see? Visit the ' +\n",
              "          '<a target=\"_blank\" href=https://colab.research.google.com/notebooks/data_table.ipynb>data table notebook</a>'\n",
              "          + ' to learn more about interactive tables.';\n",
              "        element.innerHTML = '';\n",
              "        dataTable['output_type'] = 'display_data';\n",
              "        await google.colab.output.renderOutput(dataTable, element);\n",
              "        const docLink = document.createElement('div');\n",
              "        docLink.innerHTML = docLinkHtml;\n",
              "        element.appendChild(docLink);\n",
              "      }\n",
              "    </script>\n",
              "  </div>\n",
              "\n",
              "\n",
              "<div id=\"df-e8372888-93c2-48c9-86fd-99826c9d428a\">\n",
              "  <button class=\"colab-df-quickchart\" onclick=\"quickchart('df-e8372888-93c2-48c9-86fd-99826c9d428a')\"\n",
              "            title=\"Suggest charts\"\n",
              "            style=\"display:none;\">\n",
              "\n",
              "<svg xmlns=\"http://www.w3.org/2000/svg\" height=\"24px\"viewBox=\"0 0 24 24\"\n",
              "     width=\"24px\">\n",
              "    <g>\n",
              "        <path d=\"M19 3H5c-1.1 0-2 .9-2 2v14c0 1.1.9 2 2 2h14c1.1 0 2-.9 2-2V5c0-1.1-.9-2-2-2zM9 17H7v-7h2v7zm4 0h-2V7h2v10zm4 0h-2v-4h2v4z\"/>\n",
              "    </g>\n",
              "</svg>\n",
              "  </button>\n",
              "\n",
              "<style>\n",
              "  .colab-df-quickchart {\n",
              "      --bg-color: #E8F0FE;\n",
              "      --fill-color: #1967D2;\n",
              "      --hover-bg-color: #E2EBFA;\n",
              "      --hover-fill-color: #174EA6;\n",
              "      --disabled-fill-color: #AAA;\n",
              "      --disabled-bg-color: #DDD;\n",
              "  }\n",
              "\n",
              "  [theme=dark] .colab-df-quickchart {\n",
              "      --bg-color: #3B4455;\n",
              "      --fill-color: #D2E3FC;\n",
              "      --hover-bg-color: #434B5C;\n",
              "      --hover-fill-color: #FFFFFF;\n",
              "      --disabled-bg-color: #3B4455;\n",
              "      --disabled-fill-color: #666;\n",
              "  }\n",
              "\n",
              "  .colab-df-quickchart {\n",
              "    background-color: var(--bg-color);\n",
              "    border: none;\n",
              "    border-radius: 50%;\n",
              "    cursor: pointer;\n",
              "    display: none;\n",
              "    fill: var(--fill-color);\n",
              "    height: 32px;\n",
              "    padding: 0;\n",
              "    width: 32px;\n",
              "  }\n",
              "\n",
              "  .colab-df-quickchart:hover {\n",
              "    background-color: var(--hover-bg-color);\n",
              "    box-shadow: 0 1px 2px rgba(60, 64, 67, 0.3), 0 1px 3px 1px rgba(60, 64, 67, 0.15);\n",
              "    fill: var(--button-hover-fill-color);\n",
              "  }\n",
              "\n",
              "  .colab-df-quickchart-complete:disabled,\n",
              "  .colab-df-quickchart-complete:disabled:hover {\n",
              "    background-color: var(--disabled-bg-color);\n",
              "    fill: var(--disabled-fill-color);\n",
              "    box-shadow: none;\n",
              "  }\n",
              "\n",
              "  .colab-df-spinner {\n",
              "    border: 2px solid var(--fill-color);\n",
              "    border-color: transparent;\n",
              "    border-bottom-color: var(--fill-color);\n",
              "    animation:\n",
              "      spin 1s steps(1) infinite;\n",
              "  }\n",
              "\n",
              "  @keyframes spin {\n",
              "    0% {\n",
              "      border-color: transparent;\n",
              "      border-bottom-color: var(--fill-color);\n",
              "      border-left-color: var(--fill-color);\n",
              "    }\n",
              "    20% {\n",
              "      border-color: transparent;\n",
              "      border-left-color: var(--fill-color);\n",
              "      border-top-color: var(--fill-color);\n",
              "    }\n",
              "    30% {\n",
              "      border-color: transparent;\n",
              "      border-left-color: var(--fill-color);\n",
              "      border-top-color: var(--fill-color);\n",
              "      border-right-color: var(--fill-color);\n",
              "    }\n",
              "    40% {\n",
              "      border-color: transparent;\n",
              "      border-right-color: var(--fill-color);\n",
              "      border-top-color: var(--fill-color);\n",
              "    }\n",
              "    60% {\n",
              "      border-color: transparent;\n",
              "      border-right-color: var(--fill-color);\n",
              "    }\n",
              "    80% {\n",
              "      border-color: transparent;\n",
              "      border-right-color: var(--fill-color);\n",
              "      border-bottom-color: var(--fill-color);\n",
              "    }\n",
              "    90% {\n",
              "      border-color: transparent;\n",
              "      border-bottom-color: var(--fill-color);\n",
              "    }\n",
              "  }\n",
              "</style>\n",
              "\n",
              "  <script>\n",
              "    async function quickchart(key) {\n",
              "      const quickchartButtonEl =\n",
              "        document.querySelector('#' + key + ' button');\n",
              "      quickchartButtonEl.disabled = true;  // To prevent multiple clicks.\n",
              "      quickchartButtonEl.classList.add('colab-df-spinner');\n",
              "      try {\n",
              "        const charts = await google.colab.kernel.invokeFunction(\n",
              "            'suggestCharts', [key], {});\n",
              "      } catch (error) {\n",
              "        console.error('Error during call to suggestCharts:', error);\n",
              "      }\n",
              "      quickchartButtonEl.classList.remove('colab-df-spinner');\n",
              "      quickchartButtonEl.classList.add('colab-df-quickchart-complete');\n",
              "    }\n",
              "    (() => {\n",
              "      let quickchartButtonEl =\n",
              "        document.querySelector('#df-e8372888-93c2-48c9-86fd-99826c9d428a button');\n",
              "      quickchartButtonEl.style.display =\n",
              "        google.colab.kernel.accessAllowed ? 'block' : 'none';\n",
              "    })();\n",
              "  </script>\n",
              "</div>\n",
              "    </div>\n",
              "  </div>\n"
            ]
          },
          "metadata": {},
          "execution_count": 58
        }
      ]
    },
    {
      "cell_type": "markdown",
      "source": [
        "Observamos como el precio medio de la vivienda oscila entre el mínimo de 851€ para el segundo trimestre y un máximo de 884€ para el cuarto trimestre, con una desviación típica de entorno a los 220€. La mediana está entorno a 60€ por debajo de la media, lo que señala un sesgo positivo (hacia la derecha), es decir, las viviendas presentan mayor diferencia de precios en los rangos altos."
      ],
      "metadata": {
        "id": "GjlnyOQ9PQjm"
      }
    },
    {
      "cell_type": "markdown",
      "source": [
        "Si agrupamos por distritos en vez de por trimestres ..."
      ],
      "metadata": {
        "id": "_PcSAs41SBlY"
      }
    },
    {
      "cell_type": "code",
      "source": [
        "df[df.Lloguer_mitja == 'Lloguer mitjà mensual (Euros/mes)']['Preu'] \\\n",
        ".groupby(df.Nom_Districte).describe().round(2)"
      ],
      "metadata": {
        "colab": {
          "base_uri": "https://localhost:8080/",
          "height": 394
        },
        "id": "1AoNznr2SAUH",
        "outputId": "c65e0b12-5e91-4c8e-f74e-66e81e47a7e0"
      },
      "execution_count": 59,
      "outputs": [
        {
          "output_type": "execute_result",
          "data": {
            "text/plain": [
              "                     count     mean     std    min      25%      50%      75%  \\\n",
              "Nom_Districte                                                                   \n",
              "Ciutat Vella          16.0   858.92   70.78  759.2   800.22   870.00   924.50   \n",
              "Eixample              24.0  1000.55  105.24  887.1   922.80   964.95  1070.80   \n",
              "Gràcia                20.0   877.26   65.81  745.4   859.18   895.65   921.80   \n",
              "Horta-Guinardó        40.0   765.01   61.54  653.5   726.45   756.30   817.82   \n",
              "Les Corts             12.0  1214.07  359.67  904.8   969.00  1007.90  1618.48   \n",
              "Nou Barris            40.0   664.29   71.12  488.1   624.12   671.80   700.68   \n",
              "Sant Andreu           26.0   721.20   94.36  447.5   647.80   755.45   792.50   \n",
              "Sant Martí            40.0   916.45  178.81  700.5   795.35   869.20   976.98   \n",
              "Sants-Montjuïc        28.0   798.93   38.95  691.9   778.32   805.25   818.35   \n",
              "Sarrià-Sant Gervasi   24.0  1271.21  190.92  990.1  1138.38  1278.85  1371.62   \n",
              "\n",
              "                        max  \n",
              "Nom_Districte                \n",
              "Ciutat Vella          968.4  \n",
              "Eixample             1220.8  \n",
              "Gràcia                961.0  \n",
              "Horta-Guinardó        884.2  \n",
              "Les Corts            1816.5  \n",
              "Nou Barris            803.7  \n",
              "Sant Andreu           827.2  \n",
              "Sant Martí           1364.7  \n",
              "Sants-Montjuïc        872.5  \n",
              "Sarrià-Sant Gervasi  1597.4  "
            ],
            "text/html": [
              "\n",
              "  <div id=\"df-808965e3-3e9d-4545-ab7f-c0c1249bcaa8\" class=\"colab-df-container\">\n",
              "    <div>\n",
              "<style scoped>\n",
              "    .dataframe tbody tr th:only-of-type {\n",
              "        vertical-align: middle;\n",
              "    }\n",
              "\n",
              "    .dataframe tbody tr th {\n",
              "        vertical-align: top;\n",
              "    }\n",
              "\n",
              "    .dataframe thead th {\n",
              "        text-align: right;\n",
              "    }\n",
              "</style>\n",
              "<table border=\"1\" class=\"dataframe\">\n",
              "  <thead>\n",
              "    <tr style=\"text-align: right;\">\n",
              "      <th></th>\n",
              "      <th>count</th>\n",
              "      <th>mean</th>\n",
              "      <th>std</th>\n",
              "      <th>min</th>\n",
              "      <th>25%</th>\n",
              "      <th>50%</th>\n",
              "      <th>75%</th>\n",
              "      <th>max</th>\n",
              "    </tr>\n",
              "    <tr>\n",
              "      <th>Nom_Districte</th>\n",
              "      <th></th>\n",
              "      <th></th>\n",
              "      <th></th>\n",
              "      <th></th>\n",
              "      <th></th>\n",
              "      <th></th>\n",
              "      <th></th>\n",
              "      <th></th>\n",
              "    </tr>\n",
              "  </thead>\n",
              "  <tbody>\n",
              "    <tr>\n",
              "      <th>Ciutat Vella</th>\n",
              "      <td>16.0</td>\n",
              "      <td>858.92</td>\n",
              "      <td>70.78</td>\n",
              "      <td>759.2</td>\n",
              "      <td>800.22</td>\n",
              "      <td>870.00</td>\n",
              "      <td>924.50</td>\n",
              "      <td>968.4</td>\n",
              "    </tr>\n",
              "    <tr>\n",
              "      <th>Eixample</th>\n",
              "      <td>24.0</td>\n",
              "      <td>1000.55</td>\n",
              "      <td>105.24</td>\n",
              "      <td>887.1</td>\n",
              "      <td>922.80</td>\n",
              "      <td>964.95</td>\n",
              "      <td>1070.80</td>\n",
              "      <td>1220.8</td>\n",
              "    </tr>\n",
              "    <tr>\n",
              "      <th>Gràcia</th>\n",
              "      <td>20.0</td>\n",
              "      <td>877.26</td>\n",
              "      <td>65.81</td>\n",
              "      <td>745.4</td>\n",
              "      <td>859.18</td>\n",
              "      <td>895.65</td>\n",
              "      <td>921.80</td>\n",
              "      <td>961.0</td>\n",
              "    </tr>\n",
              "    <tr>\n",
              "      <th>Horta-Guinardó</th>\n",
              "      <td>40.0</td>\n",
              "      <td>765.01</td>\n",
              "      <td>61.54</td>\n",
              "      <td>653.5</td>\n",
              "      <td>726.45</td>\n",
              "      <td>756.30</td>\n",
              "      <td>817.82</td>\n",
              "      <td>884.2</td>\n",
              "    </tr>\n",
              "    <tr>\n",
              "      <th>Les Corts</th>\n",
              "      <td>12.0</td>\n",
              "      <td>1214.07</td>\n",
              "      <td>359.67</td>\n",
              "      <td>904.8</td>\n",
              "      <td>969.00</td>\n",
              "      <td>1007.90</td>\n",
              "      <td>1618.48</td>\n",
              "      <td>1816.5</td>\n",
              "    </tr>\n",
              "    <tr>\n",
              "      <th>Nou Barris</th>\n",
              "      <td>40.0</td>\n",
              "      <td>664.29</td>\n",
              "      <td>71.12</td>\n",
              "      <td>488.1</td>\n",
              "      <td>624.12</td>\n",
              "      <td>671.80</td>\n",
              "      <td>700.68</td>\n",
              "      <td>803.7</td>\n",
              "    </tr>\n",
              "    <tr>\n",
              "      <th>Sant Andreu</th>\n",
              "      <td>26.0</td>\n",
              "      <td>721.20</td>\n",
              "      <td>94.36</td>\n",
              "      <td>447.5</td>\n",
              "      <td>647.80</td>\n",
              "      <td>755.45</td>\n",
              "      <td>792.50</td>\n",
              "      <td>827.2</td>\n",
              "    </tr>\n",
              "    <tr>\n",
              "      <th>Sant Martí</th>\n",
              "      <td>40.0</td>\n",
              "      <td>916.45</td>\n",
              "      <td>178.81</td>\n",
              "      <td>700.5</td>\n",
              "      <td>795.35</td>\n",
              "      <td>869.20</td>\n",
              "      <td>976.98</td>\n",
              "      <td>1364.7</td>\n",
              "    </tr>\n",
              "    <tr>\n",
              "      <th>Sants-Montjuïc</th>\n",
              "      <td>28.0</td>\n",
              "      <td>798.93</td>\n",
              "      <td>38.95</td>\n",
              "      <td>691.9</td>\n",
              "      <td>778.32</td>\n",
              "      <td>805.25</td>\n",
              "      <td>818.35</td>\n",
              "      <td>872.5</td>\n",
              "    </tr>\n",
              "    <tr>\n",
              "      <th>Sarrià-Sant Gervasi</th>\n",
              "      <td>24.0</td>\n",
              "      <td>1271.21</td>\n",
              "      <td>190.92</td>\n",
              "      <td>990.1</td>\n",
              "      <td>1138.38</td>\n",
              "      <td>1278.85</td>\n",
              "      <td>1371.62</td>\n",
              "      <td>1597.4</td>\n",
              "    </tr>\n",
              "  </tbody>\n",
              "</table>\n",
              "</div>\n",
              "    <div class=\"colab-df-buttons\">\n",
              "\n",
              "  <div class=\"colab-df-container\">\n",
              "    <button class=\"colab-df-convert\" onclick=\"convertToInteractive('df-808965e3-3e9d-4545-ab7f-c0c1249bcaa8')\"\n",
              "            title=\"Convert this dataframe to an interactive table.\"\n",
              "            style=\"display:none;\">\n",
              "\n",
              "  <svg xmlns=\"http://www.w3.org/2000/svg\" height=\"24px\" viewBox=\"0 -960 960 960\">\n",
              "    <path d=\"M120-120v-720h720v720H120Zm60-500h600v-160H180v160Zm220 220h160v-160H400v160Zm0 220h160v-160H400v160ZM180-400h160v-160H180v160Zm440 0h160v-160H620v160ZM180-180h160v-160H180v160Zm440 0h160v-160H620v160Z\"/>\n",
              "  </svg>\n",
              "    </button>\n",
              "\n",
              "  <style>\n",
              "    .colab-df-container {\n",
              "      display:flex;\n",
              "      gap: 12px;\n",
              "    }\n",
              "\n",
              "    .colab-df-convert {\n",
              "      background-color: #E8F0FE;\n",
              "      border: none;\n",
              "      border-radius: 50%;\n",
              "      cursor: pointer;\n",
              "      display: none;\n",
              "      fill: #1967D2;\n",
              "      height: 32px;\n",
              "      padding: 0 0 0 0;\n",
              "      width: 32px;\n",
              "    }\n",
              "\n",
              "    .colab-df-convert:hover {\n",
              "      background-color: #E2EBFA;\n",
              "      box-shadow: 0px 1px 2px rgba(60, 64, 67, 0.3), 0px 1px 3px 1px rgba(60, 64, 67, 0.15);\n",
              "      fill: #174EA6;\n",
              "    }\n",
              "\n",
              "    .colab-df-buttons div {\n",
              "      margin-bottom: 4px;\n",
              "    }\n",
              "\n",
              "    [theme=dark] .colab-df-convert {\n",
              "      background-color: #3B4455;\n",
              "      fill: #D2E3FC;\n",
              "    }\n",
              "\n",
              "    [theme=dark] .colab-df-convert:hover {\n",
              "      background-color: #434B5C;\n",
              "      box-shadow: 0px 1px 3px 1px rgba(0, 0, 0, 0.15);\n",
              "      filter: drop-shadow(0px 1px 2px rgba(0, 0, 0, 0.3));\n",
              "      fill: #FFFFFF;\n",
              "    }\n",
              "  </style>\n",
              "\n",
              "    <script>\n",
              "      const buttonEl =\n",
              "        document.querySelector('#df-808965e3-3e9d-4545-ab7f-c0c1249bcaa8 button.colab-df-convert');\n",
              "      buttonEl.style.display =\n",
              "        google.colab.kernel.accessAllowed ? 'block' : 'none';\n",
              "\n",
              "      async function convertToInteractive(key) {\n",
              "        const element = document.querySelector('#df-808965e3-3e9d-4545-ab7f-c0c1249bcaa8');\n",
              "        const dataTable =\n",
              "          await google.colab.kernel.invokeFunction('convertToInteractive',\n",
              "                                                    [key], {});\n",
              "        if (!dataTable) return;\n",
              "\n",
              "        const docLinkHtml = 'Like what you see? Visit the ' +\n",
              "          '<a target=\"_blank\" href=https://colab.research.google.com/notebooks/data_table.ipynb>data table notebook</a>'\n",
              "          + ' to learn more about interactive tables.';\n",
              "        element.innerHTML = '';\n",
              "        dataTable['output_type'] = 'display_data';\n",
              "        await google.colab.output.renderOutput(dataTable, element);\n",
              "        const docLink = document.createElement('div');\n",
              "        docLink.innerHTML = docLinkHtml;\n",
              "        element.appendChild(docLink);\n",
              "      }\n",
              "    </script>\n",
              "  </div>\n",
              "\n",
              "\n",
              "<div id=\"df-7bdf1e7d-dd98-4493-b9ec-2539eee5d59c\">\n",
              "  <button class=\"colab-df-quickchart\" onclick=\"quickchart('df-7bdf1e7d-dd98-4493-b9ec-2539eee5d59c')\"\n",
              "            title=\"Suggest charts\"\n",
              "            style=\"display:none;\">\n",
              "\n",
              "<svg xmlns=\"http://www.w3.org/2000/svg\" height=\"24px\"viewBox=\"0 0 24 24\"\n",
              "     width=\"24px\">\n",
              "    <g>\n",
              "        <path d=\"M19 3H5c-1.1 0-2 .9-2 2v14c0 1.1.9 2 2 2h14c1.1 0 2-.9 2-2V5c0-1.1-.9-2-2-2zM9 17H7v-7h2v7zm4 0h-2V7h2v10zm4 0h-2v-4h2v4z\"/>\n",
              "    </g>\n",
              "</svg>\n",
              "  </button>\n",
              "\n",
              "<style>\n",
              "  .colab-df-quickchart {\n",
              "      --bg-color: #E8F0FE;\n",
              "      --fill-color: #1967D2;\n",
              "      --hover-bg-color: #E2EBFA;\n",
              "      --hover-fill-color: #174EA6;\n",
              "      --disabled-fill-color: #AAA;\n",
              "      --disabled-bg-color: #DDD;\n",
              "  }\n",
              "\n",
              "  [theme=dark] .colab-df-quickchart {\n",
              "      --bg-color: #3B4455;\n",
              "      --fill-color: #D2E3FC;\n",
              "      --hover-bg-color: #434B5C;\n",
              "      --hover-fill-color: #FFFFFF;\n",
              "      --disabled-bg-color: #3B4455;\n",
              "      --disabled-fill-color: #666;\n",
              "  }\n",
              "\n",
              "  .colab-df-quickchart {\n",
              "    background-color: var(--bg-color);\n",
              "    border: none;\n",
              "    border-radius: 50%;\n",
              "    cursor: pointer;\n",
              "    display: none;\n",
              "    fill: var(--fill-color);\n",
              "    height: 32px;\n",
              "    padding: 0;\n",
              "    width: 32px;\n",
              "  }\n",
              "\n",
              "  .colab-df-quickchart:hover {\n",
              "    background-color: var(--hover-bg-color);\n",
              "    box-shadow: 0 1px 2px rgba(60, 64, 67, 0.3), 0 1px 3px 1px rgba(60, 64, 67, 0.15);\n",
              "    fill: var(--button-hover-fill-color);\n",
              "  }\n",
              "\n",
              "  .colab-df-quickchart-complete:disabled,\n",
              "  .colab-df-quickchart-complete:disabled:hover {\n",
              "    background-color: var(--disabled-bg-color);\n",
              "    fill: var(--disabled-fill-color);\n",
              "    box-shadow: none;\n",
              "  }\n",
              "\n",
              "  .colab-df-spinner {\n",
              "    border: 2px solid var(--fill-color);\n",
              "    border-color: transparent;\n",
              "    border-bottom-color: var(--fill-color);\n",
              "    animation:\n",
              "      spin 1s steps(1) infinite;\n",
              "  }\n",
              "\n",
              "  @keyframes spin {\n",
              "    0% {\n",
              "      border-color: transparent;\n",
              "      border-bottom-color: var(--fill-color);\n",
              "      border-left-color: var(--fill-color);\n",
              "    }\n",
              "    20% {\n",
              "      border-color: transparent;\n",
              "      border-left-color: var(--fill-color);\n",
              "      border-top-color: var(--fill-color);\n",
              "    }\n",
              "    30% {\n",
              "      border-color: transparent;\n",
              "      border-left-color: var(--fill-color);\n",
              "      border-top-color: var(--fill-color);\n",
              "      border-right-color: var(--fill-color);\n",
              "    }\n",
              "    40% {\n",
              "      border-color: transparent;\n",
              "      border-right-color: var(--fill-color);\n",
              "      border-top-color: var(--fill-color);\n",
              "    }\n",
              "    60% {\n",
              "      border-color: transparent;\n",
              "      border-right-color: var(--fill-color);\n",
              "    }\n",
              "    80% {\n",
              "      border-color: transparent;\n",
              "      border-right-color: var(--fill-color);\n",
              "      border-bottom-color: var(--fill-color);\n",
              "    }\n",
              "    90% {\n",
              "      border-color: transparent;\n",
              "      border-bottom-color: var(--fill-color);\n",
              "    }\n",
              "  }\n",
              "</style>\n",
              "\n",
              "  <script>\n",
              "    async function quickchart(key) {\n",
              "      const quickchartButtonEl =\n",
              "        document.querySelector('#' + key + ' button');\n",
              "      quickchartButtonEl.disabled = true;  // To prevent multiple clicks.\n",
              "      quickchartButtonEl.classList.add('colab-df-spinner');\n",
              "      try {\n",
              "        const charts = await google.colab.kernel.invokeFunction(\n",
              "            'suggestCharts', [key], {});\n",
              "      } catch (error) {\n",
              "        console.error('Error during call to suggestCharts:', error);\n",
              "      }\n",
              "      quickchartButtonEl.classList.remove('colab-df-spinner');\n",
              "      quickchartButtonEl.classList.add('colab-df-quickchart-complete');\n",
              "    }\n",
              "    (() => {\n",
              "      let quickchartButtonEl =\n",
              "        document.querySelector('#df-7bdf1e7d-dd98-4493-b9ec-2539eee5d59c button');\n",
              "      quickchartButtonEl.style.display =\n",
              "        google.colab.kernel.accessAllowed ? 'block' : 'none';\n",
              "    })();\n",
              "  </script>\n",
              "</div>\n",
              "    </div>\n",
              "  </div>\n"
            ]
          },
          "metadata": {},
          "execution_count": 59
        }
      ]
    },
    {
      "cell_type": "markdown",
      "source": [
        "... y por barrios ..."
      ],
      "metadata": {
        "id": "JD9biEFKUqmd"
      }
    },
    {
      "cell_type": "code",
      "source": [
        "df[df.Lloguer_mitja == 'Lloguer mitjà mensual (Euros/mes)']['Preu'] \\\n",
        ".groupby(df.Nom_Barri).describe().round(2).sort_values(by=('mean'))[:4]"
      ],
      "metadata": {
        "colab": {
          "base_uri": "https://localhost:8080/",
          "height": 206
        },
        "id": "jmPYOm31Unng",
        "outputId": "e50444c4-c3e2-4c2b-cb2e-b4d3db47b429"
      },
      "execution_count": 60,
      "outputs": [
        {
          "output_type": "execute_result",
          "data": {
            "text/plain": [
              "                   count    mean     std    min     25%     50%     75%    max\n",
              "Nom_Barri                                                                     \n",
              "Ciutat Meridiana     4.0  525.70   28.13  488.1  512.18  533.50  547.02  547.7\n",
              "Baró de Viver        2.0  532.10  119.64  447.5  489.80  532.10  574.40  616.7\n",
              "la Trinitat Nova     4.0  592.75   24.32  557.0  588.20  601.80  606.35  610.4\n",
              "la Trinitat Vella    4.0  607.28   21.67  585.0  590.55  608.75  625.48  626.6"
            ],
            "text/html": [
              "\n",
              "  <div id=\"df-86582369-f519-4101-bb76-09988c88135b\" class=\"colab-df-container\">\n",
              "    <div>\n",
              "<style scoped>\n",
              "    .dataframe tbody tr th:only-of-type {\n",
              "        vertical-align: middle;\n",
              "    }\n",
              "\n",
              "    .dataframe tbody tr th {\n",
              "        vertical-align: top;\n",
              "    }\n",
              "\n",
              "    .dataframe thead th {\n",
              "        text-align: right;\n",
              "    }\n",
              "</style>\n",
              "<table border=\"1\" class=\"dataframe\">\n",
              "  <thead>\n",
              "    <tr style=\"text-align: right;\">\n",
              "      <th></th>\n",
              "      <th>count</th>\n",
              "      <th>mean</th>\n",
              "      <th>std</th>\n",
              "      <th>min</th>\n",
              "      <th>25%</th>\n",
              "      <th>50%</th>\n",
              "      <th>75%</th>\n",
              "      <th>max</th>\n",
              "    </tr>\n",
              "    <tr>\n",
              "      <th>Nom_Barri</th>\n",
              "      <th></th>\n",
              "      <th></th>\n",
              "      <th></th>\n",
              "      <th></th>\n",
              "      <th></th>\n",
              "      <th></th>\n",
              "      <th></th>\n",
              "      <th></th>\n",
              "    </tr>\n",
              "  </thead>\n",
              "  <tbody>\n",
              "    <tr>\n",
              "      <th>Ciutat Meridiana</th>\n",
              "      <td>4.0</td>\n",
              "      <td>525.70</td>\n",
              "      <td>28.13</td>\n",
              "      <td>488.1</td>\n",
              "      <td>512.18</td>\n",
              "      <td>533.50</td>\n",
              "      <td>547.02</td>\n",
              "      <td>547.7</td>\n",
              "    </tr>\n",
              "    <tr>\n",
              "      <th>Baró de Viver</th>\n",
              "      <td>2.0</td>\n",
              "      <td>532.10</td>\n",
              "      <td>119.64</td>\n",
              "      <td>447.5</td>\n",
              "      <td>489.80</td>\n",
              "      <td>532.10</td>\n",
              "      <td>574.40</td>\n",
              "      <td>616.7</td>\n",
              "    </tr>\n",
              "    <tr>\n",
              "      <th>la Trinitat Nova</th>\n",
              "      <td>4.0</td>\n",
              "      <td>592.75</td>\n",
              "      <td>24.32</td>\n",
              "      <td>557.0</td>\n",
              "      <td>588.20</td>\n",
              "      <td>601.80</td>\n",
              "      <td>606.35</td>\n",
              "      <td>610.4</td>\n",
              "    </tr>\n",
              "    <tr>\n",
              "      <th>la Trinitat Vella</th>\n",
              "      <td>4.0</td>\n",
              "      <td>607.28</td>\n",
              "      <td>21.67</td>\n",
              "      <td>585.0</td>\n",
              "      <td>590.55</td>\n",
              "      <td>608.75</td>\n",
              "      <td>625.48</td>\n",
              "      <td>626.6</td>\n",
              "    </tr>\n",
              "  </tbody>\n",
              "</table>\n",
              "</div>\n",
              "    <div class=\"colab-df-buttons\">\n",
              "\n",
              "  <div class=\"colab-df-container\">\n",
              "    <button class=\"colab-df-convert\" onclick=\"convertToInteractive('df-86582369-f519-4101-bb76-09988c88135b')\"\n",
              "            title=\"Convert this dataframe to an interactive table.\"\n",
              "            style=\"display:none;\">\n",
              "\n",
              "  <svg xmlns=\"http://www.w3.org/2000/svg\" height=\"24px\" viewBox=\"0 -960 960 960\">\n",
              "    <path d=\"M120-120v-720h720v720H120Zm60-500h600v-160H180v160Zm220 220h160v-160H400v160Zm0 220h160v-160H400v160ZM180-400h160v-160H180v160Zm440 0h160v-160H620v160ZM180-180h160v-160H180v160Zm440 0h160v-160H620v160Z\"/>\n",
              "  </svg>\n",
              "    </button>\n",
              "\n",
              "  <style>\n",
              "    .colab-df-container {\n",
              "      display:flex;\n",
              "      gap: 12px;\n",
              "    }\n",
              "\n",
              "    .colab-df-convert {\n",
              "      background-color: #E8F0FE;\n",
              "      border: none;\n",
              "      border-radius: 50%;\n",
              "      cursor: pointer;\n",
              "      display: none;\n",
              "      fill: #1967D2;\n",
              "      height: 32px;\n",
              "      padding: 0 0 0 0;\n",
              "      width: 32px;\n",
              "    }\n",
              "\n",
              "    .colab-df-convert:hover {\n",
              "      background-color: #E2EBFA;\n",
              "      box-shadow: 0px 1px 2px rgba(60, 64, 67, 0.3), 0px 1px 3px 1px rgba(60, 64, 67, 0.15);\n",
              "      fill: #174EA6;\n",
              "    }\n",
              "\n",
              "    .colab-df-buttons div {\n",
              "      margin-bottom: 4px;\n",
              "    }\n",
              "\n",
              "    [theme=dark] .colab-df-convert {\n",
              "      background-color: #3B4455;\n",
              "      fill: #D2E3FC;\n",
              "    }\n",
              "\n",
              "    [theme=dark] .colab-df-convert:hover {\n",
              "      background-color: #434B5C;\n",
              "      box-shadow: 0px 1px 3px 1px rgba(0, 0, 0, 0.15);\n",
              "      filter: drop-shadow(0px 1px 2px rgba(0, 0, 0, 0.3));\n",
              "      fill: #FFFFFF;\n",
              "    }\n",
              "  </style>\n",
              "\n",
              "    <script>\n",
              "      const buttonEl =\n",
              "        document.querySelector('#df-86582369-f519-4101-bb76-09988c88135b button.colab-df-convert');\n",
              "      buttonEl.style.display =\n",
              "        google.colab.kernel.accessAllowed ? 'block' : 'none';\n",
              "\n",
              "      async function convertToInteractive(key) {\n",
              "        const element = document.querySelector('#df-86582369-f519-4101-bb76-09988c88135b');\n",
              "        const dataTable =\n",
              "          await google.colab.kernel.invokeFunction('convertToInteractive',\n",
              "                                                    [key], {});\n",
              "        if (!dataTable) return;\n",
              "\n",
              "        const docLinkHtml = 'Like what you see? Visit the ' +\n",
              "          '<a target=\"_blank\" href=https://colab.research.google.com/notebooks/data_table.ipynb>data table notebook</a>'\n",
              "          + ' to learn more about interactive tables.';\n",
              "        element.innerHTML = '';\n",
              "        dataTable['output_type'] = 'display_data';\n",
              "        await google.colab.output.renderOutput(dataTable, element);\n",
              "        const docLink = document.createElement('div');\n",
              "        docLink.innerHTML = docLinkHtml;\n",
              "        element.appendChild(docLink);\n",
              "      }\n",
              "    </script>\n",
              "  </div>\n",
              "\n",
              "\n",
              "<div id=\"df-acd93831-7e05-490e-8629-3fd8b954ca40\">\n",
              "  <button class=\"colab-df-quickchart\" onclick=\"quickchart('df-acd93831-7e05-490e-8629-3fd8b954ca40')\"\n",
              "            title=\"Suggest charts\"\n",
              "            style=\"display:none;\">\n",
              "\n",
              "<svg xmlns=\"http://www.w3.org/2000/svg\" height=\"24px\"viewBox=\"0 0 24 24\"\n",
              "     width=\"24px\">\n",
              "    <g>\n",
              "        <path d=\"M19 3H5c-1.1 0-2 .9-2 2v14c0 1.1.9 2 2 2h14c1.1 0 2-.9 2-2V5c0-1.1-.9-2-2-2zM9 17H7v-7h2v7zm4 0h-2V7h2v10zm4 0h-2v-4h2v4z\"/>\n",
              "    </g>\n",
              "</svg>\n",
              "  </button>\n",
              "\n",
              "<style>\n",
              "  .colab-df-quickchart {\n",
              "      --bg-color: #E8F0FE;\n",
              "      --fill-color: #1967D2;\n",
              "      --hover-bg-color: #E2EBFA;\n",
              "      --hover-fill-color: #174EA6;\n",
              "      --disabled-fill-color: #AAA;\n",
              "      --disabled-bg-color: #DDD;\n",
              "  }\n",
              "\n",
              "  [theme=dark] .colab-df-quickchart {\n",
              "      --bg-color: #3B4455;\n",
              "      --fill-color: #D2E3FC;\n",
              "      --hover-bg-color: #434B5C;\n",
              "      --hover-fill-color: #FFFFFF;\n",
              "      --disabled-bg-color: #3B4455;\n",
              "      --disabled-fill-color: #666;\n",
              "  }\n",
              "\n",
              "  .colab-df-quickchart {\n",
              "    background-color: var(--bg-color);\n",
              "    border: none;\n",
              "    border-radius: 50%;\n",
              "    cursor: pointer;\n",
              "    display: none;\n",
              "    fill: var(--fill-color);\n",
              "    height: 32px;\n",
              "    padding: 0;\n",
              "    width: 32px;\n",
              "  }\n",
              "\n",
              "  .colab-df-quickchart:hover {\n",
              "    background-color: var(--hover-bg-color);\n",
              "    box-shadow: 0 1px 2px rgba(60, 64, 67, 0.3), 0 1px 3px 1px rgba(60, 64, 67, 0.15);\n",
              "    fill: var(--button-hover-fill-color);\n",
              "  }\n",
              "\n",
              "  .colab-df-quickchart-complete:disabled,\n",
              "  .colab-df-quickchart-complete:disabled:hover {\n",
              "    background-color: var(--disabled-bg-color);\n",
              "    fill: var(--disabled-fill-color);\n",
              "    box-shadow: none;\n",
              "  }\n",
              "\n",
              "  .colab-df-spinner {\n",
              "    border: 2px solid var(--fill-color);\n",
              "    border-color: transparent;\n",
              "    border-bottom-color: var(--fill-color);\n",
              "    animation:\n",
              "      spin 1s steps(1) infinite;\n",
              "  }\n",
              "\n",
              "  @keyframes spin {\n",
              "    0% {\n",
              "      border-color: transparent;\n",
              "      border-bottom-color: var(--fill-color);\n",
              "      border-left-color: var(--fill-color);\n",
              "    }\n",
              "    20% {\n",
              "      border-color: transparent;\n",
              "      border-left-color: var(--fill-color);\n",
              "      border-top-color: var(--fill-color);\n",
              "    }\n",
              "    30% {\n",
              "      border-color: transparent;\n",
              "      border-left-color: var(--fill-color);\n",
              "      border-top-color: var(--fill-color);\n",
              "      border-right-color: var(--fill-color);\n",
              "    }\n",
              "    40% {\n",
              "      border-color: transparent;\n",
              "      border-right-color: var(--fill-color);\n",
              "      border-top-color: var(--fill-color);\n",
              "    }\n",
              "    60% {\n",
              "      border-color: transparent;\n",
              "      border-right-color: var(--fill-color);\n",
              "    }\n",
              "    80% {\n",
              "      border-color: transparent;\n",
              "      border-right-color: var(--fill-color);\n",
              "      border-bottom-color: var(--fill-color);\n",
              "    }\n",
              "    90% {\n",
              "      border-color: transparent;\n",
              "      border-bottom-color: var(--fill-color);\n",
              "    }\n",
              "  }\n",
              "</style>\n",
              "\n",
              "  <script>\n",
              "    async function quickchart(key) {\n",
              "      const quickchartButtonEl =\n",
              "        document.querySelector('#' + key + ' button');\n",
              "      quickchartButtonEl.disabled = true;  // To prevent multiple clicks.\n",
              "      quickchartButtonEl.classList.add('colab-df-spinner');\n",
              "      try {\n",
              "        const charts = await google.colab.kernel.invokeFunction(\n",
              "            'suggestCharts', [key], {});\n",
              "      } catch (error) {\n",
              "        console.error('Error during call to suggestCharts:', error);\n",
              "      }\n",
              "      quickchartButtonEl.classList.remove('colab-df-spinner');\n",
              "      quickchartButtonEl.classList.add('colab-df-quickchart-complete');\n",
              "    }\n",
              "    (() => {\n",
              "      let quickchartButtonEl =\n",
              "        document.querySelector('#df-acd93831-7e05-490e-8629-3fd8b954ca40 button');\n",
              "      quickchartButtonEl.style.display =\n",
              "        google.colab.kernel.accessAllowed ? 'block' : 'none';\n",
              "    })();\n",
              "  </script>\n",
              "</div>\n",
              "    </div>\n",
              "  </div>\n"
            ]
          },
          "metadata": {},
          "execution_count": 60
        }
      ]
    },
    {
      "cell_type": "markdown",
      "source": [
        "... en orden descendente ..."
      ],
      "metadata": {
        "id": "uasAjlftWEPD"
      }
    },
    {
      "cell_type": "code",
      "source": [
        "df[df.Lloguer_mitja == 'Lloguer mitjà mensual (Euros/mes)']['Preu'] \\\n",
        ".groupby(df.Nom_Barri).describe().round(2).sort_values(by=('mean'), ascending=False)[:4]"
      ],
      "metadata": {
        "colab": {
          "base_uri": "https://localhost:8080/",
          "height": 206
        },
        "id": "AFytK6iEWC6B",
        "outputId": "5fa12512-49b7-4855-b7a4-5897afa4ae30"
      },
      "execution_count": 61,
      "outputs": [
        {
          "output_type": "execute_result",
          "data": {
            "text/plain": [
              "                               count     mean    std     min      25%  \\\n",
              "Nom_Barri                                                               \n",
              "Pedralbes                        4.0  1693.58  90.53  1598.2  1659.02   \n",
              "les Tres Torres                  4.0  1542.72  76.88  1429.0  1532.12   \n",
              "Sant Gervasi - Galvany           4.0  1355.05  57.92  1294.9  1328.05   \n",
              "la Vila Olímpica del Poblenou    4.0  1313.82  51.39  1248.6  1286.32   \n",
              "\n",
              "                                   50%      75%     max  \n",
              "Nom_Barri                                                \n",
              "Pedralbes                      1679.80  1714.35  1816.5  \n",
              "les Tres Torres                1572.25  1582.85  1597.4  \n",
              "Sant Gervasi - Galvany         1345.80  1372.80  1433.7  \n",
              "la Vila Olímpica del Poblenou  1321.00  1348.50  1364.7  "
            ],
            "text/html": [
              "\n",
              "  <div id=\"df-918b1a40-02ee-4194-9f72-97ceda2882e9\" class=\"colab-df-container\">\n",
              "    <div>\n",
              "<style scoped>\n",
              "    .dataframe tbody tr th:only-of-type {\n",
              "        vertical-align: middle;\n",
              "    }\n",
              "\n",
              "    .dataframe tbody tr th {\n",
              "        vertical-align: top;\n",
              "    }\n",
              "\n",
              "    .dataframe thead th {\n",
              "        text-align: right;\n",
              "    }\n",
              "</style>\n",
              "<table border=\"1\" class=\"dataframe\">\n",
              "  <thead>\n",
              "    <tr style=\"text-align: right;\">\n",
              "      <th></th>\n",
              "      <th>count</th>\n",
              "      <th>mean</th>\n",
              "      <th>std</th>\n",
              "      <th>min</th>\n",
              "      <th>25%</th>\n",
              "      <th>50%</th>\n",
              "      <th>75%</th>\n",
              "      <th>max</th>\n",
              "    </tr>\n",
              "    <tr>\n",
              "      <th>Nom_Barri</th>\n",
              "      <th></th>\n",
              "      <th></th>\n",
              "      <th></th>\n",
              "      <th></th>\n",
              "      <th></th>\n",
              "      <th></th>\n",
              "      <th></th>\n",
              "      <th></th>\n",
              "    </tr>\n",
              "  </thead>\n",
              "  <tbody>\n",
              "    <tr>\n",
              "      <th>Pedralbes</th>\n",
              "      <td>4.0</td>\n",
              "      <td>1693.58</td>\n",
              "      <td>90.53</td>\n",
              "      <td>1598.2</td>\n",
              "      <td>1659.02</td>\n",
              "      <td>1679.80</td>\n",
              "      <td>1714.35</td>\n",
              "      <td>1816.5</td>\n",
              "    </tr>\n",
              "    <tr>\n",
              "      <th>les Tres Torres</th>\n",
              "      <td>4.0</td>\n",
              "      <td>1542.72</td>\n",
              "      <td>76.88</td>\n",
              "      <td>1429.0</td>\n",
              "      <td>1532.12</td>\n",
              "      <td>1572.25</td>\n",
              "      <td>1582.85</td>\n",
              "      <td>1597.4</td>\n",
              "    </tr>\n",
              "    <tr>\n",
              "      <th>Sant Gervasi - Galvany</th>\n",
              "      <td>4.0</td>\n",
              "      <td>1355.05</td>\n",
              "      <td>57.92</td>\n",
              "      <td>1294.9</td>\n",
              "      <td>1328.05</td>\n",
              "      <td>1345.80</td>\n",
              "      <td>1372.80</td>\n",
              "      <td>1433.7</td>\n",
              "    </tr>\n",
              "    <tr>\n",
              "      <th>la Vila Olímpica del Poblenou</th>\n",
              "      <td>4.0</td>\n",
              "      <td>1313.82</td>\n",
              "      <td>51.39</td>\n",
              "      <td>1248.6</td>\n",
              "      <td>1286.32</td>\n",
              "      <td>1321.00</td>\n",
              "      <td>1348.50</td>\n",
              "      <td>1364.7</td>\n",
              "    </tr>\n",
              "  </tbody>\n",
              "</table>\n",
              "</div>\n",
              "    <div class=\"colab-df-buttons\">\n",
              "\n",
              "  <div class=\"colab-df-container\">\n",
              "    <button class=\"colab-df-convert\" onclick=\"convertToInteractive('df-918b1a40-02ee-4194-9f72-97ceda2882e9')\"\n",
              "            title=\"Convert this dataframe to an interactive table.\"\n",
              "            style=\"display:none;\">\n",
              "\n",
              "  <svg xmlns=\"http://www.w3.org/2000/svg\" height=\"24px\" viewBox=\"0 -960 960 960\">\n",
              "    <path d=\"M120-120v-720h720v720H120Zm60-500h600v-160H180v160Zm220 220h160v-160H400v160Zm0 220h160v-160H400v160ZM180-400h160v-160H180v160Zm440 0h160v-160H620v160ZM180-180h160v-160H180v160Zm440 0h160v-160H620v160Z\"/>\n",
              "  </svg>\n",
              "    </button>\n",
              "\n",
              "  <style>\n",
              "    .colab-df-container {\n",
              "      display:flex;\n",
              "      gap: 12px;\n",
              "    }\n",
              "\n",
              "    .colab-df-convert {\n",
              "      background-color: #E8F0FE;\n",
              "      border: none;\n",
              "      border-radius: 50%;\n",
              "      cursor: pointer;\n",
              "      display: none;\n",
              "      fill: #1967D2;\n",
              "      height: 32px;\n",
              "      padding: 0 0 0 0;\n",
              "      width: 32px;\n",
              "    }\n",
              "\n",
              "    .colab-df-convert:hover {\n",
              "      background-color: #E2EBFA;\n",
              "      box-shadow: 0px 1px 2px rgba(60, 64, 67, 0.3), 0px 1px 3px 1px rgba(60, 64, 67, 0.15);\n",
              "      fill: #174EA6;\n",
              "    }\n",
              "\n",
              "    .colab-df-buttons div {\n",
              "      margin-bottom: 4px;\n",
              "    }\n",
              "\n",
              "    [theme=dark] .colab-df-convert {\n",
              "      background-color: #3B4455;\n",
              "      fill: #D2E3FC;\n",
              "    }\n",
              "\n",
              "    [theme=dark] .colab-df-convert:hover {\n",
              "      background-color: #434B5C;\n",
              "      box-shadow: 0px 1px 3px 1px rgba(0, 0, 0, 0.15);\n",
              "      filter: drop-shadow(0px 1px 2px rgba(0, 0, 0, 0.3));\n",
              "      fill: #FFFFFF;\n",
              "    }\n",
              "  </style>\n",
              "\n",
              "    <script>\n",
              "      const buttonEl =\n",
              "        document.querySelector('#df-918b1a40-02ee-4194-9f72-97ceda2882e9 button.colab-df-convert');\n",
              "      buttonEl.style.display =\n",
              "        google.colab.kernel.accessAllowed ? 'block' : 'none';\n",
              "\n",
              "      async function convertToInteractive(key) {\n",
              "        const element = document.querySelector('#df-918b1a40-02ee-4194-9f72-97ceda2882e9');\n",
              "        const dataTable =\n",
              "          await google.colab.kernel.invokeFunction('convertToInteractive',\n",
              "                                                    [key], {});\n",
              "        if (!dataTable) return;\n",
              "\n",
              "        const docLinkHtml = 'Like what you see? Visit the ' +\n",
              "          '<a target=\"_blank\" href=https://colab.research.google.com/notebooks/data_table.ipynb>data table notebook</a>'\n",
              "          + ' to learn more about interactive tables.';\n",
              "        element.innerHTML = '';\n",
              "        dataTable['output_type'] = 'display_data';\n",
              "        await google.colab.output.renderOutput(dataTable, element);\n",
              "        const docLink = document.createElement('div');\n",
              "        docLink.innerHTML = docLinkHtml;\n",
              "        element.appendChild(docLink);\n",
              "      }\n",
              "    </script>\n",
              "  </div>\n",
              "\n",
              "\n",
              "<div id=\"df-4d1eff27-38b2-4be3-bd10-2766cbe59067\">\n",
              "  <button class=\"colab-df-quickchart\" onclick=\"quickchart('df-4d1eff27-38b2-4be3-bd10-2766cbe59067')\"\n",
              "            title=\"Suggest charts\"\n",
              "            style=\"display:none;\">\n",
              "\n",
              "<svg xmlns=\"http://www.w3.org/2000/svg\" height=\"24px\"viewBox=\"0 0 24 24\"\n",
              "     width=\"24px\">\n",
              "    <g>\n",
              "        <path d=\"M19 3H5c-1.1 0-2 .9-2 2v14c0 1.1.9 2 2 2h14c1.1 0 2-.9 2-2V5c0-1.1-.9-2-2-2zM9 17H7v-7h2v7zm4 0h-2V7h2v10zm4 0h-2v-4h2v4z\"/>\n",
              "    </g>\n",
              "</svg>\n",
              "  </button>\n",
              "\n",
              "<style>\n",
              "  .colab-df-quickchart {\n",
              "      --bg-color: #E8F0FE;\n",
              "      --fill-color: #1967D2;\n",
              "      --hover-bg-color: #E2EBFA;\n",
              "      --hover-fill-color: #174EA6;\n",
              "      --disabled-fill-color: #AAA;\n",
              "      --disabled-bg-color: #DDD;\n",
              "  }\n",
              "\n",
              "  [theme=dark] .colab-df-quickchart {\n",
              "      --bg-color: #3B4455;\n",
              "      --fill-color: #D2E3FC;\n",
              "      --hover-bg-color: #434B5C;\n",
              "      --hover-fill-color: #FFFFFF;\n",
              "      --disabled-bg-color: #3B4455;\n",
              "      --disabled-fill-color: #666;\n",
              "  }\n",
              "\n",
              "  .colab-df-quickchart {\n",
              "    background-color: var(--bg-color);\n",
              "    border: none;\n",
              "    border-radius: 50%;\n",
              "    cursor: pointer;\n",
              "    display: none;\n",
              "    fill: var(--fill-color);\n",
              "    height: 32px;\n",
              "    padding: 0;\n",
              "    width: 32px;\n",
              "  }\n",
              "\n",
              "  .colab-df-quickchart:hover {\n",
              "    background-color: var(--hover-bg-color);\n",
              "    box-shadow: 0 1px 2px rgba(60, 64, 67, 0.3), 0 1px 3px 1px rgba(60, 64, 67, 0.15);\n",
              "    fill: var(--button-hover-fill-color);\n",
              "  }\n",
              "\n",
              "  .colab-df-quickchart-complete:disabled,\n",
              "  .colab-df-quickchart-complete:disabled:hover {\n",
              "    background-color: var(--disabled-bg-color);\n",
              "    fill: var(--disabled-fill-color);\n",
              "    box-shadow: none;\n",
              "  }\n",
              "\n",
              "  .colab-df-spinner {\n",
              "    border: 2px solid var(--fill-color);\n",
              "    border-color: transparent;\n",
              "    border-bottom-color: var(--fill-color);\n",
              "    animation:\n",
              "      spin 1s steps(1) infinite;\n",
              "  }\n",
              "\n",
              "  @keyframes spin {\n",
              "    0% {\n",
              "      border-color: transparent;\n",
              "      border-bottom-color: var(--fill-color);\n",
              "      border-left-color: var(--fill-color);\n",
              "    }\n",
              "    20% {\n",
              "      border-color: transparent;\n",
              "      border-left-color: var(--fill-color);\n",
              "      border-top-color: var(--fill-color);\n",
              "    }\n",
              "    30% {\n",
              "      border-color: transparent;\n",
              "      border-left-color: var(--fill-color);\n",
              "      border-top-color: var(--fill-color);\n",
              "      border-right-color: var(--fill-color);\n",
              "    }\n",
              "    40% {\n",
              "      border-color: transparent;\n",
              "      border-right-color: var(--fill-color);\n",
              "      border-top-color: var(--fill-color);\n",
              "    }\n",
              "    60% {\n",
              "      border-color: transparent;\n",
              "      border-right-color: var(--fill-color);\n",
              "    }\n",
              "    80% {\n",
              "      border-color: transparent;\n",
              "      border-right-color: var(--fill-color);\n",
              "      border-bottom-color: var(--fill-color);\n",
              "    }\n",
              "    90% {\n",
              "      border-color: transparent;\n",
              "      border-bottom-color: var(--fill-color);\n",
              "    }\n",
              "  }\n",
              "</style>\n",
              "\n",
              "  <script>\n",
              "    async function quickchart(key) {\n",
              "      const quickchartButtonEl =\n",
              "        document.querySelector('#' + key + ' button');\n",
              "      quickchartButtonEl.disabled = true;  // To prevent multiple clicks.\n",
              "      quickchartButtonEl.classList.add('colab-df-spinner');\n",
              "      try {\n",
              "        const charts = await google.colab.kernel.invokeFunction(\n",
              "            'suggestCharts', [key], {});\n",
              "      } catch (error) {\n",
              "        console.error('Error during call to suggestCharts:', error);\n",
              "      }\n",
              "      quickchartButtonEl.classList.remove('colab-df-spinner');\n",
              "      quickchartButtonEl.classList.add('colab-df-quickchart-complete');\n",
              "    }\n",
              "    (() => {\n",
              "      let quickchartButtonEl =\n",
              "        document.querySelector('#df-4d1eff27-38b2-4be3-bd10-2766cbe59067 button');\n",
              "      quickchartButtonEl.style.display =\n",
              "        google.colab.kernel.accessAllowed ? 'block' : 'none';\n",
              "    })();\n",
              "  </script>\n",
              "</div>\n",
              "    </div>\n",
              "  </div>\n"
            ]
          },
          "metadata": {},
          "execution_count": 61
        }
      ]
    },
    {
      "cell_type": "markdown",
      "source": [
        "Vemos como Pedralbes es el barrio con un precio medio de alquiler por vivienda más alto, en 1816.15€, mientras de los disponibles Ciutat Meridiana sería el que tiene un precio más bajo, en 547.7€. Pero nos quedaría la duda de si se puede deber al tamaño de las viviendas ..."
      ],
      "metadata": {
        "id": "2O1wClTlWQk1"
      }
    },
    {
      "cell_type": "markdown",
      "source": [
        "Vamos a ver el precio medio por metro cuadrado, mínimo y máximo:"
      ],
      "metadata": {
        "id": "ze8Ex9LBWyK6"
      }
    },
    {
      "cell_type": "code",
      "source": [
        "df.Lloguer_mitja.unique()"
      ],
      "metadata": {
        "colab": {
          "base_uri": "https://localhost:8080/"
        },
        "id": "NL7kb2MsXdZQ",
        "outputId": "26a42931-d49b-44d2-b08b-63ecbcab149c"
      },
      "execution_count": 62,
      "outputs": [
        {
          "output_type": "execute_result",
          "data": {
            "text/plain": [
              "array(['Lloguer mitjà mensual (Euros/mes)',\n",
              "       'Lloguer mitjà per superfície (Euros/m2 mes)'], dtype=object)"
            ]
          },
          "metadata": {},
          "execution_count": 62
        }
      ]
    },
    {
      "cell_type": "markdown",
      "source": [
        "Comprobamos la nomenclatura ..."
      ],
      "metadata": {
        "id": "l7AQivD1XqvU"
      }
    },
    {
      "cell_type": "code",
      "source": [
        "df[df.Lloguer_mitja == 'Lloguer mitjà per superfície (Euros/m2 mes)']['Preu'] \\\n",
        ".groupby(df.Nom_Barri).describe().round(2).sort_values(by=('mean'))[:4]"
      ],
      "metadata": {
        "colab": {
          "base_uri": "https://localhost:8080/",
          "height": 206
        },
        "id": "0ramJsyAW5PG",
        "outputId": "20420fbe-944d-4053-9837-03bc67b3ef63"
      },
      "execution_count": 63,
      "outputs": [
        {
          "output_type": "execute_result",
          "data": {
            "text/plain": [
              "                  count  mean   std  min   25%   50%   75%   max\n",
              "Nom_Barri                                                       \n",
              "Baró de Viver       2.0  7.95  1.77  6.7  7.32  7.95  8.57   9.2\n",
              "Ciutat Meridiana    4.0  8.90  0.55  8.1  8.78  9.10  9.22   9.3\n",
              "Canyelles           4.0  9.32  0.53  8.7  9.15  9.30  9.48  10.0\n",
              "la Guineueta        4.0  9.70  0.36  9.4  9.40  9.65  9.95  10.1"
            ],
            "text/html": [
              "\n",
              "  <div id=\"df-e4db1539-059a-429f-b5f0-cfdc73a0212b\" class=\"colab-df-container\">\n",
              "    <div>\n",
              "<style scoped>\n",
              "    .dataframe tbody tr th:only-of-type {\n",
              "        vertical-align: middle;\n",
              "    }\n",
              "\n",
              "    .dataframe tbody tr th {\n",
              "        vertical-align: top;\n",
              "    }\n",
              "\n",
              "    .dataframe thead th {\n",
              "        text-align: right;\n",
              "    }\n",
              "</style>\n",
              "<table border=\"1\" class=\"dataframe\">\n",
              "  <thead>\n",
              "    <tr style=\"text-align: right;\">\n",
              "      <th></th>\n",
              "      <th>count</th>\n",
              "      <th>mean</th>\n",
              "      <th>std</th>\n",
              "      <th>min</th>\n",
              "      <th>25%</th>\n",
              "      <th>50%</th>\n",
              "      <th>75%</th>\n",
              "      <th>max</th>\n",
              "    </tr>\n",
              "    <tr>\n",
              "      <th>Nom_Barri</th>\n",
              "      <th></th>\n",
              "      <th></th>\n",
              "      <th></th>\n",
              "      <th></th>\n",
              "      <th></th>\n",
              "      <th></th>\n",
              "      <th></th>\n",
              "      <th></th>\n",
              "    </tr>\n",
              "  </thead>\n",
              "  <tbody>\n",
              "    <tr>\n",
              "      <th>Baró de Viver</th>\n",
              "      <td>2.0</td>\n",
              "      <td>7.95</td>\n",
              "      <td>1.77</td>\n",
              "      <td>6.7</td>\n",
              "      <td>7.32</td>\n",
              "      <td>7.95</td>\n",
              "      <td>8.57</td>\n",
              "      <td>9.2</td>\n",
              "    </tr>\n",
              "    <tr>\n",
              "      <th>Ciutat Meridiana</th>\n",
              "      <td>4.0</td>\n",
              "      <td>8.90</td>\n",
              "      <td>0.55</td>\n",
              "      <td>8.1</td>\n",
              "      <td>8.78</td>\n",
              "      <td>9.10</td>\n",
              "      <td>9.22</td>\n",
              "      <td>9.3</td>\n",
              "    </tr>\n",
              "    <tr>\n",
              "      <th>Canyelles</th>\n",
              "      <td>4.0</td>\n",
              "      <td>9.32</td>\n",
              "      <td>0.53</td>\n",
              "      <td>8.7</td>\n",
              "      <td>9.15</td>\n",
              "      <td>9.30</td>\n",
              "      <td>9.48</td>\n",
              "      <td>10.0</td>\n",
              "    </tr>\n",
              "    <tr>\n",
              "      <th>la Guineueta</th>\n",
              "      <td>4.0</td>\n",
              "      <td>9.70</td>\n",
              "      <td>0.36</td>\n",
              "      <td>9.4</td>\n",
              "      <td>9.40</td>\n",
              "      <td>9.65</td>\n",
              "      <td>9.95</td>\n",
              "      <td>10.1</td>\n",
              "    </tr>\n",
              "  </tbody>\n",
              "</table>\n",
              "</div>\n",
              "    <div class=\"colab-df-buttons\">\n",
              "\n",
              "  <div class=\"colab-df-container\">\n",
              "    <button class=\"colab-df-convert\" onclick=\"convertToInteractive('df-e4db1539-059a-429f-b5f0-cfdc73a0212b')\"\n",
              "            title=\"Convert this dataframe to an interactive table.\"\n",
              "            style=\"display:none;\">\n",
              "\n",
              "  <svg xmlns=\"http://www.w3.org/2000/svg\" height=\"24px\" viewBox=\"0 -960 960 960\">\n",
              "    <path d=\"M120-120v-720h720v720H120Zm60-500h600v-160H180v160Zm220 220h160v-160H400v160Zm0 220h160v-160H400v160ZM180-400h160v-160H180v160Zm440 0h160v-160H620v160ZM180-180h160v-160H180v160Zm440 0h160v-160H620v160Z\"/>\n",
              "  </svg>\n",
              "    </button>\n",
              "\n",
              "  <style>\n",
              "    .colab-df-container {\n",
              "      display:flex;\n",
              "      gap: 12px;\n",
              "    }\n",
              "\n",
              "    .colab-df-convert {\n",
              "      background-color: #E8F0FE;\n",
              "      border: none;\n",
              "      border-radius: 50%;\n",
              "      cursor: pointer;\n",
              "      display: none;\n",
              "      fill: #1967D2;\n",
              "      height: 32px;\n",
              "      padding: 0 0 0 0;\n",
              "      width: 32px;\n",
              "    }\n",
              "\n",
              "    .colab-df-convert:hover {\n",
              "      background-color: #E2EBFA;\n",
              "      box-shadow: 0px 1px 2px rgba(60, 64, 67, 0.3), 0px 1px 3px 1px rgba(60, 64, 67, 0.15);\n",
              "      fill: #174EA6;\n",
              "    }\n",
              "\n",
              "    .colab-df-buttons div {\n",
              "      margin-bottom: 4px;\n",
              "    }\n",
              "\n",
              "    [theme=dark] .colab-df-convert {\n",
              "      background-color: #3B4455;\n",
              "      fill: #D2E3FC;\n",
              "    }\n",
              "\n",
              "    [theme=dark] .colab-df-convert:hover {\n",
              "      background-color: #434B5C;\n",
              "      box-shadow: 0px 1px 3px 1px rgba(0, 0, 0, 0.15);\n",
              "      filter: drop-shadow(0px 1px 2px rgba(0, 0, 0, 0.3));\n",
              "      fill: #FFFFFF;\n",
              "    }\n",
              "  </style>\n",
              "\n",
              "    <script>\n",
              "      const buttonEl =\n",
              "        document.querySelector('#df-e4db1539-059a-429f-b5f0-cfdc73a0212b button.colab-df-convert');\n",
              "      buttonEl.style.display =\n",
              "        google.colab.kernel.accessAllowed ? 'block' : 'none';\n",
              "\n",
              "      async function convertToInteractive(key) {\n",
              "        const element = document.querySelector('#df-e4db1539-059a-429f-b5f0-cfdc73a0212b');\n",
              "        const dataTable =\n",
              "          await google.colab.kernel.invokeFunction('convertToInteractive',\n",
              "                                                    [key], {});\n",
              "        if (!dataTable) return;\n",
              "\n",
              "        const docLinkHtml = 'Like what you see? Visit the ' +\n",
              "          '<a target=\"_blank\" href=https://colab.research.google.com/notebooks/data_table.ipynb>data table notebook</a>'\n",
              "          + ' to learn more about interactive tables.';\n",
              "        element.innerHTML = '';\n",
              "        dataTable['output_type'] = 'display_data';\n",
              "        await google.colab.output.renderOutput(dataTable, element);\n",
              "        const docLink = document.createElement('div');\n",
              "        docLink.innerHTML = docLinkHtml;\n",
              "        element.appendChild(docLink);\n",
              "      }\n",
              "    </script>\n",
              "  </div>\n",
              "\n",
              "\n",
              "<div id=\"df-c5646556-5ee5-4efd-8273-0459532e30f5\">\n",
              "  <button class=\"colab-df-quickchart\" onclick=\"quickchart('df-c5646556-5ee5-4efd-8273-0459532e30f5')\"\n",
              "            title=\"Suggest charts\"\n",
              "            style=\"display:none;\">\n",
              "\n",
              "<svg xmlns=\"http://www.w3.org/2000/svg\" height=\"24px\"viewBox=\"0 0 24 24\"\n",
              "     width=\"24px\">\n",
              "    <g>\n",
              "        <path d=\"M19 3H5c-1.1 0-2 .9-2 2v14c0 1.1.9 2 2 2h14c1.1 0 2-.9 2-2V5c0-1.1-.9-2-2-2zM9 17H7v-7h2v7zm4 0h-2V7h2v10zm4 0h-2v-4h2v4z\"/>\n",
              "    </g>\n",
              "</svg>\n",
              "  </button>\n",
              "\n",
              "<style>\n",
              "  .colab-df-quickchart {\n",
              "      --bg-color: #E8F0FE;\n",
              "      --fill-color: #1967D2;\n",
              "      --hover-bg-color: #E2EBFA;\n",
              "      --hover-fill-color: #174EA6;\n",
              "      --disabled-fill-color: #AAA;\n",
              "      --disabled-bg-color: #DDD;\n",
              "  }\n",
              "\n",
              "  [theme=dark] .colab-df-quickchart {\n",
              "      --bg-color: #3B4455;\n",
              "      --fill-color: #D2E3FC;\n",
              "      --hover-bg-color: #434B5C;\n",
              "      --hover-fill-color: #FFFFFF;\n",
              "      --disabled-bg-color: #3B4455;\n",
              "      --disabled-fill-color: #666;\n",
              "  }\n",
              "\n",
              "  .colab-df-quickchart {\n",
              "    background-color: var(--bg-color);\n",
              "    border: none;\n",
              "    border-radius: 50%;\n",
              "    cursor: pointer;\n",
              "    display: none;\n",
              "    fill: var(--fill-color);\n",
              "    height: 32px;\n",
              "    padding: 0;\n",
              "    width: 32px;\n",
              "  }\n",
              "\n",
              "  .colab-df-quickchart:hover {\n",
              "    background-color: var(--hover-bg-color);\n",
              "    box-shadow: 0 1px 2px rgba(60, 64, 67, 0.3), 0 1px 3px 1px rgba(60, 64, 67, 0.15);\n",
              "    fill: var(--button-hover-fill-color);\n",
              "  }\n",
              "\n",
              "  .colab-df-quickchart-complete:disabled,\n",
              "  .colab-df-quickchart-complete:disabled:hover {\n",
              "    background-color: var(--disabled-bg-color);\n",
              "    fill: var(--disabled-fill-color);\n",
              "    box-shadow: none;\n",
              "  }\n",
              "\n",
              "  .colab-df-spinner {\n",
              "    border: 2px solid var(--fill-color);\n",
              "    border-color: transparent;\n",
              "    border-bottom-color: var(--fill-color);\n",
              "    animation:\n",
              "      spin 1s steps(1) infinite;\n",
              "  }\n",
              "\n",
              "  @keyframes spin {\n",
              "    0% {\n",
              "      border-color: transparent;\n",
              "      border-bottom-color: var(--fill-color);\n",
              "      border-left-color: var(--fill-color);\n",
              "    }\n",
              "    20% {\n",
              "      border-color: transparent;\n",
              "      border-left-color: var(--fill-color);\n",
              "      border-top-color: var(--fill-color);\n",
              "    }\n",
              "    30% {\n",
              "      border-color: transparent;\n",
              "      border-left-color: var(--fill-color);\n",
              "      border-top-color: var(--fill-color);\n",
              "      border-right-color: var(--fill-color);\n",
              "    }\n",
              "    40% {\n",
              "      border-color: transparent;\n",
              "      border-right-color: var(--fill-color);\n",
              "      border-top-color: var(--fill-color);\n",
              "    }\n",
              "    60% {\n",
              "      border-color: transparent;\n",
              "      border-right-color: var(--fill-color);\n",
              "    }\n",
              "    80% {\n",
              "      border-color: transparent;\n",
              "      border-right-color: var(--fill-color);\n",
              "      border-bottom-color: var(--fill-color);\n",
              "    }\n",
              "    90% {\n",
              "      border-color: transparent;\n",
              "      border-bottom-color: var(--fill-color);\n",
              "    }\n",
              "  }\n",
              "</style>\n",
              "\n",
              "  <script>\n",
              "    async function quickchart(key) {\n",
              "      const quickchartButtonEl =\n",
              "        document.querySelector('#' + key + ' button');\n",
              "      quickchartButtonEl.disabled = true;  // To prevent multiple clicks.\n",
              "      quickchartButtonEl.classList.add('colab-df-spinner');\n",
              "      try {\n",
              "        const charts = await google.colab.kernel.invokeFunction(\n",
              "            'suggestCharts', [key], {});\n",
              "      } catch (error) {\n",
              "        console.error('Error during call to suggestCharts:', error);\n",
              "      }\n",
              "      quickchartButtonEl.classList.remove('colab-df-spinner');\n",
              "      quickchartButtonEl.classList.add('colab-df-quickchart-complete');\n",
              "    }\n",
              "    (() => {\n",
              "      let quickchartButtonEl =\n",
              "        document.querySelector('#df-c5646556-5ee5-4efd-8273-0459532e30f5 button');\n",
              "      quickchartButtonEl.style.display =\n",
              "        google.colab.kernel.accessAllowed ? 'block' : 'none';\n",
              "    })();\n",
              "  </script>\n",
              "</div>\n",
              "    </div>\n",
              "  </div>\n"
            ]
          },
          "metadata": {},
          "execution_count": 63
        }
      ]
    },
    {
      "cell_type": "code",
      "source": [
        "df[df.Lloguer_mitja == 'Lloguer mitjà per superfície (Euros/m2 mes)']['Preu'] \\\n",
        ".groupby(df.Nom_Barri).describe().round(2).sort_values(by=('mean'), ascending=False)[:4]"
      ],
      "metadata": {
        "colab": {
          "base_uri": "https://localhost:8080/",
          "height": 206
        },
        "id": "Z3-44lM7X9kL",
        "outputId": "02c4b3eb-6fdb-4a1e-9378-a04de8bfb3e6"
      },
      "execution_count": 64,
      "outputs": [
        {
          "output_type": "execute_result",
          "data": {
            "text/plain": [
              "                                              count   mean   std   min    25%  \\\n",
              "Nom_Barri                                                                       \n",
              "la Vila Olímpica del Poblenou                   4.0  16.73  0.67  16.1  16.18   \n",
              "la Barceloneta                                  4.0  16.02  0.41  15.5  15.80   \n",
              "Sarrià                                          4.0  15.90  0.22  15.6  15.82   \n",
              "Diagonal Mar i el Front Marítim del Poblenou    4.0  15.75  0.83  15.1  15.18   \n",
              "\n",
              "                                                50%    75%   max  \n",
              "Nom_Barri                                                         \n",
              "la Vila Olímpica del Poblenou                 16.75  17.30  17.3  \n",
              "la Barceloneta                                16.10  16.32  16.4  \n",
              "Sarrià                                        15.95  16.02  16.1  \n",
              "Diagonal Mar i el Front Marítim del Poblenou  15.50  16.08  16.9  "
            ],
            "text/html": [
              "\n",
              "  <div id=\"df-be9064af-edbb-4093-900d-54abea19fe9a\" class=\"colab-df-container\">\n",
              "    <div>\n",
              "<style scoped>\n",
              "    .dataframe tbody tr th:only-of-type {\n",
              "        vertical-align: middle;\n",
              "    }\n",
              "\n",
              "    .dataframe tbody tr th {\n",
              "        vertical-align: top;\n",
              "    }\n",
              "\n",
              "    .dataframe thead th {\n",
              "        text-align: right;\n",
              "    }\n",
              "</style>\n",
              "<table border=\"1\" class=\"dataframe\">\n",
              "  <thead>\n",
              "    <tr style=\"text-align: right;\">\n",
              "      <th></th>\n",
              "      <th>count</th>\n",
              "      <th>mean</th>\n",
              "      <th>std</th>\n",
              "      <th>min</th>\n",
              "      <th>25%</th>\n",
              "      <th>50%</th>\n",
              "      <th>75%</th>\n",
              "      <th>max</th>\n",
              "    </tr>\n",
              "    <tr>\n",
              "      <th>Nom_Barri</th>\n",
              "      <th></th>\n",
              "      <th></th>\n",
              "      <th></th>\n",
              "      <th></th>\n",
              "      <th></th>\n",
              "      <th></th>\n",
              "      <th></th>\n",
              "      <th></th>\n",
              "    </tr>\n",
              "  </thead>\n",
              "  <tbody>\n",
              "    <tr>\n",
              "      <th>la Vila Olímpica del Poblenou</th>\n",
              "      <td>4.0</td>\n",
              "      <td>16.73</td>\n",
              "      <td>0.67</td>\n",
              "      <td>16.1</td>\n",
              "      <td>16.18</td>\n",
              "      <td>16.75</td>\n",
              "      <td>17.30</td>\n",
              "      <td>17.3</td>\n",
              "    </tr>\n",
              "    <tr>\n",
              "      <th>la Barceloneta</th>\n",
              "      <td>4.0</td>\n",
              "      <td>16.02</td>\n",
              "      <td>0.41</td>\n",
              "      <td>15.5</td>\n",
              "      <td>15.80</td>\n",
              "      <td>16.10</td>\n",
              "      <td>16.32</td>\n",
              "      <td>16.4</td>\n",
              "    </tr>\n",
              "    <tr>\n",
              "      <th>Sarrià</th>\n",
              "      <td>4.0</td>\n",
              "      <td>15.90</td>\n",
              "      <td>0.22</td>\n",
              "      <td>15.6</td>\n",
              "      <td>15.82</td>\n",
              "      <td>15.95</td>\n",
              "      <td>16.02</td>\n",
              "      <td>16.1</td>\n",
              "    </tr>\n",
              "    <tr>\n",
              "      <th>Diagonal Mar i el Front Marítim del Poblenou</th>\n",
              "      <td>4.0</td>\n",
              "      <td>15.75</td>\n",
              "      <td>0.83</td>\n",
              "      <td>15.1</td>\n",
              "      <td>15.18</td>\n",
              "      <td>15.50</td>\n",
              "      <td>16.08</td>\n",
              "      <td>16.9</td>\n",
              "    </tr>\n",
              "  </tbody>\n",
              "</table>\n",
              "</div>\n",
              "    <div class=\"colab-df-buttons\">\n",
              "\n",
              "  <div class=\"colab-df-container\">\n",
              "    <button class=\"colab-df-convert\" onclick=\"convertToInteractive('df-be9064af-edbb-4093-900d-54abea19fe9a')\"\n",
              "            title=\"Convert this dataframe to an interactive table.\"\n",
              "            style=\"display:none;\">\n",
              "\n",
              "  <svg xmlns=\"http://www.w3.org/2000/svg\" height=\"24px\" viewBox=\"0 -960 960 960\">\n",
              "    <path d=\"M120-120v-720h720v720H120Zm60-500h600v-160H180v160Zm220 220h160v-160H400v160Zm0 220h160v-160H400v160ZM180-400h160v-160H180v160Zm440 0h160v-160H620v160ZM180-180h160v-160H180v160Zm440 0h160v-160H620v160Z\"/>\n",
              "  </svg>\n",
              "    </button>\n",
              "\n",
              "  <style>\n",
              "    .colab-df-container {\n",
              "      display:flex;\n",
              "      gap: 12px;\n",
              "    }\n",
              "\n",
              "    .colab-df-convert {\n",
              "      background-color: #E8F0FE;\n",
              "      border: none;\n",
              "      border-radius: 50%;\n",
              "      cursor: pointer;\n",
              "      display: none;\n",
              "      fill: #1967D2;\n",
              "      height: 32px;\n",
              "      padding: 0 0 0 0;\n",
              "      width: 32px;\n",
              "    }\n",
              "\n",
              "    .colab-df-convert:hover {\n",
              "      background-color: #E2EBFA;\n",
              "      box-shadow: 0px 1px 2px rgba(60, 64, 67, 0.3), 0px 1px 3px 1px rgba(60, 64, 67, 0.15);\n",
              "      fill: #174EA6;\n",
              "    }\n",
              "\n",
              "    .colab-df-buttons div {\n",
              "      margin-bottom: 4px;\n",
              "    }\n",
              "\n",
              "    [theme=dark] .colab-df-convert {\n",
              "      background-color: #3B4455;\n",
              "      fill: #D2E3FC;\n",
              "    }\n",
              "\n",
              "    [theme=dark] .colab-df-convert:hover {\n",
              "      background-color: #434B5C;\n",
              "      box-shadow: 0px 1px 3px 1px rgba(0, 0, 0, 0.15);\n",
              "      filter: drop-shadow(0px 1px 2px rgba(0, 0, 0, 0.3));\n",
              "      fill: #FFFFFF;\n",
              "    }\n",
              "  </style>\n",
              "\n",
              "    <script>\n",
              "      const buttonEl =\n",
              "        document.querySelector('#df-be9064af-edbb-4093-900d-54abea19fe9a button.colab-df-convert');\n",
              "      buttonEl.style.display =\n",
              "        google.colab.kernel.accessAllowed ? 'block' : 'none';\n",
              "\n",
              "      async function convertToInteractive(key) {\n",
              "        const element = document.querySelector('#df-be9064af-edbb-4093-900d-54abea19fe9a');\n",
              "        const dataTable =\n",
              "          await google.colab.kernel.invokeFunction('convertToInteractive',\n",
              "                                                    [key], {});\n",
              "        if (!dataTable) return;\n",
              "\n",
              "        const docLinkHtml = 'Like what you see? Visit the ' +\n",
              "          '<a target=\"_blank\" href=https://colab.research.google.com/notebooks/data_table.ipynb>data table notebook</a>'\n",
              "          + ' to learn more about interactive tables.';\n",
              "        element.innerHTML = '';\n",
              "        dataTable['output_type'] = 'display_data';\n",
              "        await google.colab.output.renderOutput(dataTable, element);\n",
              "        const docLink = document.createElement('div');\n",
              "        docLink.innerHTML = docLinkHtml;\n",
              "        element.appendChild(docLink);\n",
              "      }\n",
              "    </script>\n",
              "  </div>\n",
              "\n",
              "\n",
              "<div id=\"df-6e8e56f6-a8da-48cb-ae4b-fa5a23f8cb87\">\n",
              "  <button class=\"colab-df-quickchart\" onclick=\"quickchart('df-6e8e56f6-a8da-48cb-ae4b-fa5a23f8cb87')\"\n",
              "            title=\"Suggest charts\"\n",
              "            style=\"display:none;\">\n",
              "\n",
              "<svg xmlns=\"http://www.w3.org/2000/svg\" height=\"24px\"viewBox=\"0 0 24 24\"\n",
              "     width=\"24px\">\n",
              "    <g>\n",
              "        <path d=\"M19 3H5c-1.1 0-2 .9-2 2v14c0 1.1.9 2 2 2h14c1.1 0 2-.9 2-2V5c0-1.1-.9-2-2-2zM9 17H7v-7h2v7zm4 0h-2V7h2v10zm4 0h-2v-4h2v4z\"/>\n",
              "    </g>\n",
              "</svg>\n",
              "  </button>\n",
              "\n",
              "<style>\n",
              "  .colab-df-quickchart {\n",
              "      --bg-color: #E8F0FE;\n",
              "      --fill-color: #1967D2;\n",
              "      --hover-bg-color: #E2EBFA;\n",
              "      --hover-fill-color: #174EA6;\n",
              "      --disabled-fill-color: #AAA;\n",
              "      --disabled-bg-color: #DDD;\n",
              "  }\n",
              "\n",
              "  [theme=dark] .colab-df-quickchart {\n",
              "      --bg-color: #3B4455;\n",
              "      --fill-color: #D2E3FC;\n",
              "      --hover-bg-color: #434B5C;\n",
              "      --hover-fill-color: #FFFFFF;\n",
              "      --disabled-bg-color: #3B4455;\n",
              "      --disabled-fill-color: #666;\n",
              "  }\n",
              "\n",
              "  .colab-df-quickchart {\n",
              "    background-color: var(--bg-color);\n",
              "    border: none;\n",
              "    border-radius: 50%;\n",
              "    cursor: pointer;\n",
              "    display: none;\n",
              "    fill: var(--fill-color);\n",
              "    height: 32px;\n",
              "    padding: 0;\n",
              "    width: 32px;\n",
              "  }\n",
              "\n",
              "  .colab-df-quickchart:hover {\n",
              "    background-color: var(--hover-bg-color);\n",
              "    box-shadow: 0 1px 2px rgba(60, 64, 67, 0.3), 0 1px 3px 1px rgba(60, 64, 67, 0.15);\n",
              "    fill: var(--button-hover-fill-color);\n",
              "  }\n",
              "\n",
              "  .colab-df-quickchart-complete:disabled,\n",
              "  .colab-df-quickchart-complete:disabled:hover {\n",
              "    background-color: var(--disabled-bg-color);\n",
              "    fill: var(--disabled-fill-color);\n",
              "    box-shadow: none;\n",
              "  }\n",
              "\n",
              "  .colab-df-spinner {\n",
              "    border: 2px solid var(--fill-color);\n",
              "    border-color: transparent;\n",
              "    border-bottom-color: var(--fill-color);\n",
              "    animation:\n",
              "      spin 1s steps(1) infinite;\n",
              "  }\n",
              "\n",
              "  @keyframes spin {\n",
              "    0% {\n",
              "      border-color: transparent;\n",
              "      border-bottom-color: var(--fill-color);\n",
              "      border-left-color: var(--fill-color);\n",
              "    }\n",
              "    20% {\n",
              "      border-color: transparent;\n",
              "      border-left-color: var(--fill-color);\n",
              "      border-top-color: var(--fill-color);\n",
              "    }\n",
              "    30% {\n",
              "      border-color: transparent;\n",
              "      border-left-color: var(--fill-color);\n",
              "      border-top-color: var(--fill-color);\n",
              "      border-right-color: var(--fill-color);\n",
              "    }\n",
              "    40% {\n",
              "      border-color: transparent;\n",
              "      border-right-color: var(--fill-color);\n",
              "      border-top-color: var(--fill-color);\n",
              "    }\n",
              "    60% {\n",
              "      border-color: transparent;\n",
              "      border-right-color: var(--fill-color);\n",
              "    }\n",
              "    80% {\n",
              "      border-color: transparent;\n",
              "      border-right-color: var(--fill-color);\n",
              "      border-bottom-color: var(--fill-color);\n",
              "    }\n",
              "    90% {\n",
              "      border-color: transparent;\n",
              "      border-bottom-color: var(--fill-color);\n",
              "    }\n",
              "  }\n",
              "</style>\n",
              "\n",
              "  <script>\n",
              "    async function quickchart(key) {\n",
              "      const quickchartButtonEl =\n",
              "        document.querySelector('#' + key + ' button');\n",
              "      quickchartButtonEl.disabled = true;  // To prevent multiple clicks.\n",
              "      quickchartButtonEl.classList.add('colab-df-spinner');\n",
              "      try {\n",
              "        const charts = await google.colab.kernel.invokeFunction(\n",
              "            'suggestCharts', [key], {});\n",
              "      } catch (error) {\n",
              "        console.error('Error during call to suggestCharts:', error);\n",
              "      }\n",
              "      quickchartButtonEl.classList.remove('colab-df-spinner');\n",
              "      quickchartButtonEl.classList.add('colab-df-quickchart-complete');\n",
              "    }\n",
              "    (() => {\n",
              "      let quickchartButtonEl =\n",
              "        document.querySelector('#df-6e8e56f6-a8da-48cb-ae4b-fa5a23f8cb87 button');\n",
              "      quickchartButtonEl.style.display =\n",
              "        google.colab.kernel.accessAllowed ? 'block' : 'none';\n",
              "    })();\n",
              "  </script>\n",
              "</div>\n",
              "    </div>\n",
              "  </div>\n"
            ]
          },
          "metadata": {},
          "execution_count": 64
        }
      ]
    },
    {
      "cell_type": "markdown",
      "source": [
        "En este caso si nos encontramos con diferencias, especialmente en el rango alto de precios, siendo la Villa Olímpica el barrio con un precio medio de alquiler por metro cuadrado más alto ..."
      ],
      "metadata": {
        "id": "Jtf1WDUsYIWT"
      }
    },
    {
      "cell_type": "markdown",
      "source": [
        "... pero vamos a buscar Pedralbes ..."
      ],
      "metadata": {
        "id": "XhzBcuAMYZgH"
      }
    },
    {
      "cell_type": "code",
      "source": [
        "df[(df.Lloguer_mitja == 'Lloguer mitjà per superfície (Euros/m2 mes)') &\n",
        " (df.Nom_Barri == 'Pedralbes')]['Preu'].describe()"
      ],
      "metadata": {
        "colab": {
          "base_uri": "https://localhost:8080/"
        },
        "id": "X1yQaM6uYmSO",
        "outputId": "02787d84-323c-4f24-bf12-eac914aa7ed6"
      },
      "execution_count": 65,
      "outputs": [
        {
          "output_type": "execute_result",
          "data": {
            "text/plain": [
              "count     4.000000\n",
              "mean     15.025000\n",
              "std       0.801561\n",
              "min      14.000000\n",
              "25%      14.600000\n",
              "50%      15.150000\n",
              "75%      15.575000\n",
              "max      15.800000\n",
              "Name: Preu, dtype: float64"
            ]
          },
          "metadata": {},
          "execution_count": 65
        }
      ]
    },
    {
      "cell_type": "markdown",
      "source": [
        "Una posible interpretación de las diferencias la podemos encontrar en el tamaño de las viviendas, y como el precio medio tiende a disminuir cuanto mayor es el tamaño de la vivienda, lo que explica que por ejemplo Pedralbes no se encuentre en los primeros lugares en el precio por metro cuadrado y sí la Barceloneta."
      ],
      "metadata": {
        "id": "P_3x49bna84a"
      }
    },
    {
      "cell_type": "markdown",
      "metadata": {
        "id": "_grVRwsEjakq"
      },
      "source": [
        "Creamos una columna nueva `Index_Barri` que mide la relación del precio de la vivienda entre ese barrio y el conjunto de todos los barrios. Los valores por debajo de 1 indican que el precio está por debajo de la media."
      ]
    },
    {
      "cell_type": "markdown",
      "source": [
        "Por último, vamos a comprobar que no hay datos duplicados:"
      ],
      "metadata": {
        "id": "Ks-gzGgab3bo"
      }
    },
    {
      "cell_type": "code",
      "source": [
        "df.duplicated().value_counts()"
      ],
      "metadata": {
        "colab": {
          "base_uri": "https://localhost:8080/"
        },
        "id": "M6l7f5PzcCRV",
        "outputId": "14aac25a-bd59-47a4-9921-4f9fea332c18"
      },
      "execution_count": 66,
      "outputs": [
        {
          "output_type": "execute_result",
          "data": {
            "text/plain": [
              "False    584\n",
              "dtype: int64"
            ]
          },
          "metadata": {},
          "execution_count": 66
        }
      ]
    },
    {
      "cell_type": "markdown",
      "source": [
        "No hay registros duplicados."
      ],
      "metadata": {
        "id": "7DNByoR1cRHI"
      }
    },
    {
      "cell_type": "code",
      "source": [
        "df['Preu'].isnull().value_counts()"
      ],
      "metadata": {
        "colab": {
          "base_uri": "https://localhost:8080/"
        },
        "id": "jrdvcDUPcZEX",
        "outputId": "63730d37-f353-4aeb-de0c-cbdad08b105c"
      },
      "execution_count": 67,
      "outputs": [
        {
          "output_type": "execute_result",
          "data": {
            "text/plain": [
              "False    540\n",
              "True      44\n",
              "Name: Preu, dtype: int64"
            ]
          },
          "metadata": {},
          "execution_count": 67
        }
      ]
    },
    {
      "cell_type": "markdown",
      "source": [
        "y sí tenemos 44 registros de precios nulos ..."
      ],
      "metadata": {
        "id": "tn-32Y2wc0i-"
      }
    },
    {
      "cell_type": "code",
      "source": [
        "df[df['Preu'].isnull()].groupby('Nom_Barri').size()"
      ],
      "metadata": {
        "colab": {
          "base_uri": "https://localhost:8080/"
        },
        "id": "gPbdt2h3c7Oy",
        "outputId": "d61fc417-bfcc-44c6-82a7-df9b743aed06"
      },
      "execution_count": 68,
      "outputs": [
        {
          "output_type": "execute_result",
          "data": {
            "text/plain": [
              "Nom_Barri\n",
              "Baró de Viver                 4\n",
              "Can Peguera                   8\n",
              "Torre Baró                    8\n",
              "Vallbona                      8\n",
              "la Clota                      8\n",
              "la Marina del Prat Vermell    8\n",
              "dtype: int64"
            ]
          },
          "metadata": {},
          "execution_count": 68
        }
      ]
    },
    {
      "cell_type": "markdown",
      "source": [
        "Todos los precios para Baró de Viver ... la Marina del Prat Vermell; y la mitad para `Baró de Viver` ..."
      ],
      "metadata": {
        "id": "7n2AeRa6dnsp"
      }
    },
    {
      "cell_type": "code",
      "source": [
        "df[df.Nom_Barri == 'Baró de Viver'][['Trimestre', 'Lloguer_mitja', 'Preu']].groupby('Trimestre').value_counts()"
      ],
      "metadata": {
        "colab": {
          "base_uri": "https://localhost:8080/"
        },
        "id": "of1DePDMd17t",
        "outputId": "ea62ac6d-13be-4f34-a453-e331327fb887"
      },
      "execution_count": 69,
      "outputs": [
        {
          "output_type": "execute_result",
          "data": {
            "text/plain": [
              "Trimestre  Lloguer_mitja                                Preu \n",
              "2          Lloguer mitjà mensual (Euros/mes)            447.5    1\n",
              "           Lloguer mitjà per superfície (Euros/m2 mes)  6.7      1\n",
              "4          Lloguer mitjà mensual (Euros/mes)            616.7    1\n",
              "           Lloguer mitjà per superfície (Euros/m2 mes)  9.2      1\n",
              "dtype: int64"
            ]
          },
          "metadata": {},
          "execution_count": 69
        }
      ]
    },
    {
      "cell_type": "markdown",
      "source": [
        "... que solamente tiene datos para el segundo y cuarto trimestres."
      ],
      "metadata": {
        "id": "WYdrVb-Te0Q4"
      }
    },
    {
      "cell_type": "markdown",
      "source": [
        "Hasta aquí las descripciones teórica y estadística de los datos. Primero hemos detallado las características disponibles, hemos comprobado el tipo de las variables, convertido Preu en una variable numérica y a partir de aquí nos hemos centrado en esta variable, obteniendo distintos parámetros de centralización y dispersión, agrupando por trimestres, distritos y barrios. Hemos comprobado también las diferencias entre reflejar los precios por vivienda o por metro cuadrado. Más allá se han ordenado los datos según las respectivas medias. Finalmente se han descartado la existencia de duplicidades y comprobado para qué barrios no tenemos registros, deteniéndonos en `Baró de Viver` como caso particular, lo cuál tiene también su importancia, pues de alguna manera no quedan reflejados en las estadísticas previas.  \n",
        "Destacar las desviaciones típicas de entorno al 25% de las medias de precios, lo que indica la variabilidad, así como el hecho de estar sesgadas las medias hacia la derecha de las medianas, con un nivel de dispersión mayor para precios altos."
      ],
      "metadata": {
        "id": "4Mk_xMAbfG1w"
      }
    },
    {
      "cell_type": "markdown",
      "source": [
        "# 1B. Resumeix-lo gràficament"
      ],
      "metadata": {
        "id": "dt3knIwNOIH1"
      }
    },
    {
      "cell_type": "markdown",
      "metadata": {
        "id": "tP1smBt2xmjy"
      },
      "source": [
        "A. Una variable categòrica (Districte o Barri)"
      ]
    },
    {
      "cell_type": "code",
      "source": [
        "import matplotlib as mpl\n",
        "import matplotlib.pyplot as plt"
      ],
      "metadata": {
        "id": "x7EtidLy2WBm"
      },
      "execution_count": 21,
      "outputs": []
    },
    {
      "cell_type": "code",
      "source": [
        "!pip install squarify"
      ],
      "metadata": {
        "colab": {
          "base_uri": "https://localhost:8080/"
        },
        "id": "5KMrCDlUOpra",
        "outputId": "87f2b877-2af7-42ad-8476-c2d0b6392549"
      },
      "execution_count": 22,
      "outputs": [
        {
          "output_type": "stream",
          "name": "stdout",
          "text": [
            "Collecting squarify\n",
            "  Downloading squarify-0.4.3-py3-none-any.whl (4.3 kB)\n",
            "Installing collected packages: squarify\n",
            "Successfully installed squarify-0.4.3\n"
          ]
        }
      ]
    },
    {
      "cell_type": "code",
      "source": [
        "import squarify"
      ],
      "metadata": {
        "id": "_lHCKdQFOted"
      },
      "execution_count": 23,
      "outputs": []
    },
    {
      "cell_type": "code",
      "execution_count": 24,
      "metadata": {
        "colab": {
          "base_uri": "https://localhost:8080/",
          "height": 452
        },
        "id": "k2bm6VyTCKwA",
        "outputId": "061d1f51-8ea9-44f6-9361-9c628566f087"
      },
      "outputs": [
        {
          "output_type": "display_data",
          "data": {
            "text/plain": [
              "<Figure size 640x480 with 1 Axes>"
            ],
            "image/png": "[encoded data removed]"
          },
          "metadata": {}
        }
      ],
      "source": [
        "y = df.groupby('Nom_Districte').size()\n",
        "plt.title(\"Tamaño relativo de los distritos en Barcelona\")\n",
        "squarify.plot(sizes=y, label=y.index, alpha=.8)\n",
        "plt.savefig('area_districtes')\n",
        "plt.show()"
      ]
    },
    {
      "cell_type": "markdown",
      "metadata": {
        "id": "15F-i8mo3BjW"
      },
      "source": [
        "Tamaño relativo de los distritos en función del número de barrios."
      ]
    },
    {
      "cell_type": "markdown",
      "metadata": {
        "id": "vvQ1bUVCx2oU"
      },
      "source": [
        "B. Una variable numèrica (Preu)"
      ]
    },
    {
      "cell_type": "code",
      "source": [
        "import seaborn as sns"
      ],
      "metadata": {
        "id": "QUzmY1GL4VFn"
      },
      "execution_count": 25,
      "outputs": []
    },
    {
      "cell_type": "code",
      "execution_count": 26,
      "metadata": {
        "id": "GGIcs5ocx6Z5",
        "colab": {
          "base_uri": "https://localhost:8080/",
          "height": 452
        },
        "outputId": "221178e5-df32-4bf2-a924-ab9b03ee4aee"
      },
      "outputs": [
        {
          "output_type": "display_data",
          "data": {
            "text/plain": [
              "<Figure size 640x480 with 1 Axes>"
            ],
            "image/png": "[encoded data removed]"
          },
          "metadata": {}
        }
      ],
      "source": [
        "preus = df[df['Lloguer_mitja'] == 'Lloguer mitjà mensual (Euros/mes)']['Preu']\n",
        "\n",
        "plt.title(\"Precio de alquiler en Barcelona (2021)\")\n",
        "plt.ylabel(\"Densidad\")\n",
        "sns.kdeplot(preus.values, color = 'black')\n",
        "plt.savefig('distribucion_precios_vivienda')"
      ]
    },
    {
      "cell_type": "markdown",
      "source": [
        "Representamos la distribución de precios mensuales por vivienda de forma suavizada, utilizando un gráfico de densidad de Kernel, para tener una idea bastante aproximada de los precios de alquiler por vivienda en Barcelona en 2021."
      ],
      "metadata": {
        "id": "XFgKv-kY6GzF"
      }
    },
    {
      "cell_type": "markdown",
      "metadata": {
        "id": "kzVm2D9qx636"
      },
      "source": [
        "C. Una variable numèrica i una categòrica (Districte i Preu)"
      ]
    },
    {
      "cell_type": "code",
      "execution_count": 27,
      "metadata": {
        "id": "kgRsGhSyyCZq",
        "colab": {
          "base_uri": "https://localhost:8080/",
          "height": 452
        },
        "outputId": "6d1571b6-10bd-498a-cf68-a136fa452ffc"
      },
      "outputs": [
        {
          "output_type": "display_data",
          "data": {
            "text/plain": [
              "<Figure size 640x480 with 1 Axes>"
            ],
            "image/png": "[encoded data removed]"
          },
          "metadata": {}
        }
      ],
      "source": [
        "preus = df[df['Lloguer_mitja'] == 'Lloguer mitjà mensual (Euros/mes)'].groupby('Nom_Districte')['Preu'].mean()\n",
        "\n",
        "x = preus.index\n",
        "y = preus.values\n",
        "\n",
        "plt.barh(x,y)\n",
        "plt.title(\"Precio de alquiler por distrito\")\n",
        "plt.savefig('preu_vivenda_districte')\n",
        "plt.show()"
      ]
    },
    {
      "cell_type": "markdown",
      "source": [
        "Representamos los precios medios de alquiler por vivienda (numérica) por distrito (categórica), para todo el año."
      ],
      "metadata": {
        "id": "I0fyr6H42J0u"
      }
    },
    {
      "cell_type": "code",
      "source": [
        "preus = df[df['Lloguer_mitja'] == 'Lloguer mitjà per superfície (Euros/m2 mes)'].groupby('Nom_Districte')['Preu'].mean()\n",
        "\n",
        "x = preus.index\n",
        "y = preus.values\n",
        "\n",
        "plt.barh(x, y)\n",
        "plt.title(\"Precio por metro cuadrado\")\n",
        "plt.savefig('preu_metre_districte')\n",
        "plt.show()"
      ],
      "metadata": {
        "id": "UKSTEGIc16Tu",
        "colab": {
          "base_uri": "https://localhost:8080/",
          "height": 452
        },
        "outputId": "f8fb239b-2d7b-4375-8774-af19327e4bc4"
      },
      "execution_count": 33,
      "outputs": [
        {
          "output_type": "display_data",
          "data": {
            "text/plain": [
              "<Figure size 640x480 with 1 Axes>"
            ],
            "image/png": "[encoded data removed]"
          },
          "metadata": {}
        }
      ]
    },
    {
      "cell_type": "markdown",
      "source": [
        "Y los precios medios de alquiler por metro cuadrado por distrito."
      ],
      "metadata": {
        "id": "XsYdV5AY2Udk"
      }
    },
    {
      "cell_type": "markdown",
      "metadata": {
        "id": "R-ibXSEayDIR"
      },
      "source": [
        "D. Dues variables numèriques (Any o Trimestre i Preu)"
      ]
    },
    {
      "cell_type": "code",
      "execution_count": 116,
      "metadata": {
        "id": "ORj1i0AXyGu_",
        "colab": {
          "base_uri": "https://localhost:8080/",
          "height": 453
        },
        "outputId": "c043af59-3b0b-4dee-f833-91653144056e"
      },
      "outputs": [
        {
          "output_type": "display_data",
          "data": {
            "text/plain": [
              "<Figure size 640x480 with 1 Axes>"
            ],
            "image/png": "[encoded data removed]"
          },
          "metadata": {}
        }
      ],
      "source": [
        "preus_trimestre = df[df['Lloguer_mitja'] == 'Lloguer mitjà mensual (Euros/mes)'].groupby('Trimestre')['Preu'].mean()\n",
        "\n",
        "plt.title(\"Distribución de precios trimestral\")\n",
        "plt.xticks(range(4), range(1,5))\n",
        "plt.plot(preus_trimestre.values)\n",
        "plt.savefig('distribucion_trimestres')"
      ]
    },
    {
      "cell_type": "markdown",
      "source": [
        "En este caso vemos la evolución trimestral del precio medio de alquiler por vivienda durante el año 2021 en Barcelona. Observamos una caída de entorno a 20€ del primer al segundo trimestre, para un posterior ascenso hasta final de unos 35€, situándose el máximo entorno a los 885€."
      ],
      "metadata": {
        "id": "dJgMuNAaXjPn"
      }
    },
    {
      "cell_type": "markdown",
      "metadata": {
        "id": "SsXPG2vdyHQU"
      },
      "source": [
        "E. Tres variables (Barri o Districte, Trimestre i Preu)"
      ]
    },
    {
      "cell_type": "code",
      "source": [
        "import numpy as np"
      ],
      "metadata": {
        "id": "VQBsK3EkPtD3"
      },
      "execution_count": 35,
      "outputs": []
    },
    {
      "cell_type": "code",
      "execution_count": 36,
      "metadata": {
        "id": "0JdvCOHFyLNK",
        "colab": {
          "base_uri": "https://localhost:8080/",
          "height": 472
        },
        "outputId": "828511ff-5ac5-48f1-806f-e9bdbdd3e856"
      },
      "outputs": [
        {
          "output_type": "display_data",
          "data": {
            "text/plain": [
              "<Figure size 640x480 with 1 Axes>"
            ],
            "image/png": "[encoded data removed]"
          },
          "metadata": {}
        }
      ],
      "source": [
        "d = {}\n",
        "bar = {}\n",
        "bars = []\n",
        "districtes = []\n",
        "\n",
        "for i in range(1, 11):\n",
        "  d[str(i)] = df[(df['Codi_Districte'] == i) & (df['Lloguer_mitja'] ==\n",
        "                                 'Lloguer mitjà mensual (Euros/mes)')].groupby(['Trimestre'])['Preu'].mean().round(1).values\n",
        "\n",
        "for n in range(1, 11):\n",
        "  bar[str(n)] = plt.bar(np.arange(1, 5) + 0.1*(0+n), d[str(n)], 0.1)\n",
        "  bars.append(bar[str(n)])\n",
        "  districtes.append('D'+str(n))\n",
        "\n",
        "plt.xticks(np.arange(1, 5) + 0.5, ['1', '2', '3', '4'])\n",
        "plt.title(\"Distribución de precios por trimestres y distritos\")\n",
        "plt.xlabel(\"Trimestres\")\n",
        "plt.ylabel(\"Precios (en €)\")\n",
        "plt.legend(bars, districtes)\n",
        "plt.savefig('preu_trimestre_districte')\n",
        "plt.show()"
      ]
    },
    {
      "cell_type": "markdown",
      "source": [
        "Representamos el precio de alquiler medio por vivienda para los 10 distritos, clasificados por código y agrupados por trimestres. Centrándonos en los máximos destacan los distritos 4 y 5, en el mínimo tenemos a los distritos 8 y 9. La evolución durante el año la vemos de forma más clara en el gráfico anterior, y la distribución de precios en los dos gráficos de abajo."
      ],
      "metadata": {
        "id": "1iBnTRJhG7uS"
      }
    },
    {
      "cell_type": "markdown",
      "metadata": {
        "id": "bFH6IRM4yVuz"
      },
      "source": [
        "# EX03. Proposa alguna visualització que creguis que pot resultar interessant.\n"
      ]
    },
    {
      "cell_type": "markdown",
      "source": [
        "Otra manera de visualizar la distribucion de precios es entorno a un índice medio de 1. En este caso veremos la distribución por distritos y precio medio del alquiler por vivienda y por metro cuadrado."
      ],
      "metadata": {
        "id": "t5kbcTuEM-zH"
      }
    },
    {
      "cell_type": "code",
      "source": [
        "# Índice del precio de la vivienda según el barrio\n",
        "\n",
        "precio_medio_vivienda = df[df['Lloguer_mitja'] == 'Lloguer mitjà mensual (Euros/mes)']['Preu'].mean()\n",
        "precio_medio_metro = df[df['Lloguer_mitja'] == 'Lloguer mitjà per superfície (Euros/m2 mes)']['Preu'].mean()\n",
        "\n",
        "x = 1\n",
        "y = 1\n",
        "\n",
        "while(x < 74):\n",
        "  indice_metro = round((df[(df['Codi_Barri'] == x) & (df['Lloguer_mitja'] == 'Lloguer mitjà per superfície (Euros/m2 mes)')]['Preu'].mean())/precio_medio_metro, 2)\n",
        "  df.loc[(df['Codi_Barri'] == x) & (df['Lloguer_mitja'] == 'Lloguer mitjà per superfície (Euros/m2 mes)'), 'Index_Districte_Metre'] = indice_metro\n",
        "  x += 1\n",
        "\n",
        "while(y < 74):\n",
        "  indice_vivienda = round((df[(df['Codi_Barri'] == y) & (df['Lloguer_mitja'] == 'Lloguer mitjà mensual (Euros/mes)')]['Preu'].mean())/precio_medio_vivienda, 2)\n",
        "  df.loc[(df['Codi_Barri'] == y) & (df['Lloguer_mitja'] == 'Lloguer mitjà mensual (Euros/mes)'), 'Index_Districte_Vivenda'] = indice_vivienda\n",
        "  y += 1"
      ],
      "metadata": {
        "id": "CL935bFhW6YO"
      },
      "execution_count": 80,
      "outputs": []
    },
    {
      "cell_type": "markdown",
      "source": [
        "Creamos un índice de precios sobre la media de precios por vivienda y por metro cuadrado para cada distrito, y lo asignamos a dos nuevas columnas: 'Index_Districte_Vivenda' e 'Index_Districte_Metre'"
      ],
      "metadata": {
        "id": "g4R_fFDZFRuT"
      }
    },
    {
      "cell_type": "code",
      "source": [
        "n = 1\n",
        "districtes = []\n",
        "for i in df.groupby('Nom_Districte').groups.keys():\n",
        "  districtes.append(i)\n",
        "  n+=1"
      ],
      "metadata": {
        "id": "xqEne0MACmHZ"
      },
      "execution_count": 98,
      "outputs": []
    },
    {
      "cell_type": "markdown",
      "source": [
        "Guardamos el nombre de los distritos en una lista, que nos servirá para etiquetar el eje x."
      ],
      "metadata": {
        "id": "MwH5xmZVF1B4"
      }
    },
    {
      "cell_type": "code",
      "execution_count": 108,
      "metadata": {
        "id": "j6nioV80yZH-",
        "colab": {
          "base_uri": "https://localhost:8080/",
          "height": 521
        },
        "outputId": "6876ce10-b279-4f39-9283-119f114d3486"
      },
      "outputs": [
        {
          "output_type": "display_data",
          "data": {
            "text/plain": [
              "<Figure size 640x480 with 1 Axes>"
            ],
            "image/png": "[encoded data removed]"
          },
          "metadata": {}
        }
      ],
      "source": [
        "plt.stem(df.groupby('Nom_Districte')['Index_Districte_Vivenda'].mean(), markerfmt=' ', bottom=1)\n",
        "plt.ylabel('Índice de precios (por vivienda)')\n",
        "plt.xticks(range(10), districtes, rotation = 45)\n",
        "plt.show()"
      ]
    },
    {
      "cell_type": "code",
      "source": [
        "plt.stem(df.groupby('Nom_Districte')['Index_Districte_Metre'].mean(), markerfmt=' ', bottom=1)\n",
        "plt.ylabel('Índice de precios (por metro)')\n",
        "plt.xticks(range(10), districtes, rotation = 45)\n",
        "plt.show()"
      ],
      "metadata": {
        "colab": {
          "base_uri": "https://localhost:8080/",
          "height": 521
        },
        "id": "pjwcbBPK46eV",
        "outputId": "92a849ed-1a30-4286-d305-6fcca1dfc803"
      },
      "execution_count": 109,
      "outputs": [
        {
          "output_type": "display_data",
          "data": {
            "text/plain": [
              "<Figure size 640x480 with 1 Axes>"
            ],
            "image/png": "[encoded data removed]"
          },
          "metadata": {}
        }
      ]
    },
    {
      "cell_type": "markdown",
      "source": [
        "Observamos como las distribuciones son parecidas, pero las distancias son mayores cuando evaluamos el precio total de las viviendas, lo cual se explica por el mayor o menor tamaño de las mismas según el distrito, lo que las acentúa, algo que ya veíamos al hacer la descripción estadística."
      ],
      "metadata": {
        "id": "UucwIo6s5i5K"
      }
    },
    {
      "cell_type": "markdown",
      "source": [
        "Finalmente, en este caso el estudio realizado se ha centrado en reflejar utilizando distintas herramientas gráficas y estadísticas la distribución de precios de alquiler de la vivienda en Barcelona en el año 2021, diferenciando entre distritos, trimestres e incluso barrios, lo que nos da una idea bastante aproximada de la situación real. Se ha evitado en todo caso hacer valoraciones de carácter subjetivo, limitándonos a reflejar los datos de la manera más objetiva posible y buscando utilizar distintas herramientas gráficas adecuadas, utilizando dos librerías distintas y a modo de exploración incluyendo también la biblioteca squarify de python."
      ],
      "metadata": {
        "id": "210_8asaNzee"
      }
    }
  ],
  "metadata": {
    "colab": {
      "provenance": []
    },
    "kernelspec": {
      "display_name": "Python 3",
      "name": "python3"
    },
    "language_info": {
      "name": "python"
    }
  },
  "nbformat": 4,
  "nbformat_minor": 0
}